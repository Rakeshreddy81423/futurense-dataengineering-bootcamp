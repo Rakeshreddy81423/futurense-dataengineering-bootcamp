{
 "cells": [
  {
   "cell_type": "code",
   "execution_count": 1,
   "id": "9f09bed2",
   "metadata": {},
   "outputs": [],
   "source": [
    "import pandas as pd\n",
    "import numpy as np"
   ]
  },
  {
   "cell_type": "code",
   "execution_count": 46,
   "id": "951a5af0",
   "metadata": {},
   "outputs": [],
   "source": [
    "import mysql.connector\n",
    "\n",
    "\n",
    "conn = mysql.connector.connect(host='localhost',port=3307,\n",
    "                                         database='FlightDataBase',\n",
    "                                         user='root',\n",
    "                                         password='rootuser')\n",
    "\n"
   ]
  },
  {
   "cell_type": "code",
   "execution_count": 47,
   "id": "554ca054",
   "metadata": {},
   "outputs": [
    {
     "name": "stdout",
     "output_type": "stream",
     "text": [
      "<mysql.connector.connection_cext.CMySQLConnection object at 0x000002448FBD5070>\n"
     ]
    }
   ],
   "source": [
    "\n",
    "print(conn)"
   ]
  },
  {
   "cell_type": "code",
   "execution_count": 48,
   "id": "ee3b132f",
   "metadata": {},
   "outputs": [],
   "source": [
    " cur = conn.cursor()"
   ]
  },
  {
   "cell_type": "code",
   "execution_count": 49,
   "id": "c9ca7bae",
   "metadata": {},
   "outputs": [],
   "source": [
    "cur.execute(\"show tables\")"
   ]
  },
  {
   "cell_type": "code",
   "execution_count": 50,
   "id": "78605f7f",
   "metadata": {},
   "outputs": [
    {
     "name": "stdout",
     "output_type": "stream",
     "text": [
      "('aircraft',)\n",
      "('aircraftinstance',)\n",
      "('aircraftmanufacturer',)\n",
      "('aircraftseat',)\n",
      "('airport',)\n",
      "('baggageid',)\n",
      "('booking',)\n",
      "('client',)\n",
      "('direction',)\n",
      "('flight',)\n",
      "('flight_status',)\n",
      "('flightaircraftinstance',)\n",
      "('schedule',)\n",
      "('states',)\n",
      "('travelclass',)\n"
     ]
    }
   ],
   "source": [
    "for table in cur:\n",
    "    print(table)"
   ]
  },
  {
   "cell_type": "markdown",
   "id": "9428a697",
   "metadata": {},
   "source": [
    "### Insertion into states table"
   ]
  },
  {
   "cell_type": "code",
   "execution_count": 51,
   "id": "8b866dea",
   "metadata": {},
   "outputs": [],
   "source": [
    "path = \"D:/DE_classes/repos/Futurense-mysql/sql/Airline/USA_states_refined.csv\"\n",
    "\n",
    "dir_df = pd.read_csv(path,usecols=['iata_country_code','name'])\n",
    "\n",
    "for idx,data in dir_df.iterrows():\n",
    "    cur.execute(\"insert into states values(%s,%s)\",tuple(data))"
   ]
  },
  {
   "cell_type": "code",
   "execution_count": 52,
   "id": "7149922d",
   "metadata": {},
   "outputs": [],
   "source": [
    "conn.commit()"
   ]
  },
  {
   "cell_type": "markdown",
   "id": "03650199",
   "metadata": {},
   "source": [
    "### Insertion into travelclass table"
   ]
  },
  {
   "cell_type": "code",
   "execution_count": 53,
   "id": "df40cce2",
   "metadata": {},
   "outputs": [],
   "source": [
    "path = \"D:/DE_classes/repos/Futurense-mysql/sql/Airline/tbl_travel_class.csv\"\n",
    "\n",
    "travelclass_df = pd.read_csv(path,usecols=[\"travelclass_id\",\"name\",'description'])\n",
    "travelclass_df.replace(to_replace={1:'B',2:'E'},inplace=True)\n",
    "\n",
    "\n",
    "\n",
    "\n",
    "for idx,data in travelclass_df.iterrows():\n",
    "    cur.execute(\"insert into travelclass(travel_class_id,name,description) values(%s,%s,%s)\",tuple(data))\n",
    "    \n",
    "conn.commit()"
   ]
  },
  {
   "cell_type": "code",
   "execution_count": null,
   "id": "d33b1da1",
   "metadata": {},
   "outputs": [],
   "source": []
  },
  {
   "cell_type": "markdown",
   "id": "a3ad4f4f",
   "metadata": {},
   "source": [
    "### Insert into aircraftmanufacturer table"
   ]
  },
  {
   "cell_type": "code",
   "execution_count": 54,
   "id": "2ab71734",
   "metadata": {},
   "outputs": [],
   "source": [
    "path = \"D:/DE_classes/repos/Futurense-mysql/sql/Airline/tbl_mft_data.csv\"\n",
    "\n",
    "aircraft_manufac_df = pd.read_csv(path,usecols=['mft_id','manufacturer'])\n",
    "aircraft_manufac_df\n",
    "\n",
    "for idx,data in aircraft_manufac_df.iterrows():\n",
    "    cur.execute(\"insert into aircraftmanufacturer(aircraft_manufacturer_id,name) values(%s,%s)\",(data[1],data[0]))\n",
    "    "
   ]
  },
  {
   "cell_type": "code",
   "execution_count": 55,
   "id": "e9dae99c",
   "metadata": {},
   "outputs": [],
   "source": [
    "conn.commit()"
   ]
  },
  {
   "cell_type": "markdown",
   "id": "232a7b08",
   "metadata": {},
   "source": [
    "### Insert into aircraft table"
   ]
  },
  {
   "cell_type": "code",
   "execution_count": 56,
   "id": "b2ec5f80",
   "metadata": {},
   "outputs": [],
   "source": [
    "path = \"D:/DE_classes/repos/Futurense-mysql/sql/Airline/tbl_aircraft_323.csv\"\n",
    "\n",
    "aircraft_df = pd.read_csv(path,usecols=['model','seats','mft_id','aircraft_id'])\n",
    "#aircraft_df\n",
    "#,usecols=['aircraft_id','aircraft_manufacturer_id','model','seats']\n",
    "for idx,data in aircraft_df.iterrows():\n",
    "    #print(tuple(data))\n",
    "    cur.execute(\"insert into aircraft(model,seats,aircraft_manufacturer_id,aircraft_id)values(%s,%s,%s,%s)\",tuple(data))\n",
    "    \n",
    "conn.commit()"
   ]
  },
  {
   "cell_type": "markdown",
   "id": "2bef4175",
   "metadata": {},
   "source": [
    "## insert into airports table"
   ]
  },
  {
   "cell_type": "code",
   "execution_count": 57,
   "id": "4010be9d",
   "metadata": {},
   "outputs": [],
   "source": [
    "path = \"D:/DE_classes/repos/Futurense-mysql/sql/Airline/tbl_airports.csv\"\n",
    "\n",
    "airports_df = pd.read_csv(path,usecols=['IATA_CODE','AIRPORT','CITY','STATE'])\n",
    "airports_df\n",
    "#,usecols=['aircraft_id','aircraft_manufacturer_id','model','seats']\n",
    "for idx,data in airports_df.iterrows():\n",
    "#     print(tuple(data))\n",
    "    cur.execute(\"insert into airport(iata_airport_code,name,city,iata_state_code)values(%s,%s,%s,%s)\",tuple(data))\n",
    "    \n",
    "conn.commit()"
   ]
  },
  {
   "cell_type": "markdown",
   "id": "f059b227",
   "metadata": {},
   "source": [
    "## insert into directions table"
   ]
  },
  {
   "cell_type": "code",
   "execution_count": 58,
   "id": "34ccf7ce",
   "metadata": {},
   "outputs": [
    {
     "name": "stdout",
     "output_type": "stream",
     "text": [
      "(4645, 3)\n",
      "(4579, 3)\n"
     ]
    }
   ],
   "source": [
    "path = \"D:/DE_classes/repos/Futurense-mysql/sql/Airline/tbl_directions_new.csv\"\n",
    "\n",
    "directions_df = pd.read_csv(path,usecols=['org_airport','dest_airport','distance'])\n",
    "\n",
    "print(directions_df.shape)\n",
    "directions_df = directions_df.drop_duplicates(subset=['org_airport','dest_airport'])\n",
    "print(directions_df.shape)\n",
    "\n",
    "# updated_df = directions_df.drop_duplicates(subset=['org_airport','dest_airport'])\n",
    "# updated_df\n",
    "# #,usecols=['aircraft_id','aircraft_manufacturer_id','model','seats']\n",
    "\n",
    "\n",
    "for idx,data in directions_df.iterrows():\n",
    "#     print(tuple(data))\n",
    "    cur.execute(\"insert into direction(origin_iata_airport_code,dest_iata_airport_code,distance) values(%s,%s,%s)\",tuple(data))\n",
    "    \n",
    "conn.commit()"
   ]
  },
  {
   "cell_type": "markdown",
   "id": "ce4cdc43",
   "metadata": {},
   "source": [
    "# insert into aircraftseat table"
   ]
  },
  {
   "cell_type": "code",
   "execution_count": 59,
   "id": "4a790abb",
   "metadata": {
    "scrolled": true
   },
   "outputs": [],
   "source": [
    "path = \"D:/DE_classes/repos/Futurense-mysql/sql/Airline/tbl_aircraft_seats_new.csv\"\n",
    "\n",
    "aircraft_seats_df = pd.read_csv(path,usecols=['aircraft_id','seat_id','travelclass_id'])\n",
    "aircraft_seats_df\n",
    "\n",
    "\n",
    "for idx,data in aircraft_seats_df.iterrows():\n",
    "    try:\n",
    "        cur.execute(\"insert into aircraftseat(aircraft_id,seat_id,travel_class_id) values(%s,%s,%s)\",(data[0],data[1],data[2]))\n",
    "    except:\n",
    "        print(data)\n"
   ]
  },
  {
   "cell_type": "code",
   "execution_count": 60,
   "id": "ebf83d27",
   "metadata": {},
   "outputs": [],
   "source": [
    "conn.commit()"
   ]
  },
  {
   "cell_type": "markdown",
   "id": "00d59539",
   "metadata": {},
   "source": [
    "# insert into flightstatus table"
   ]
  },
  {
   "cell_type": "code",
   "execution_count": 61,
   "id": "0abe288d",
   "metadata": {},
   "outputs": [],
   "source": [
    "path = \"D:/DE_classes/repos/Futurense-mysql/sql/Airline/flight_status.csv\"\n",
    "\n",
    "flight_status = pd.read_csv(path)\n",
    "flight_status.at[11,'name']='Past flight'\n",
    "\n",
    "for idx,data in flight_status.iterrows():\n",
    "    cur.execute(\"insert into flight_status(flight_status_id,name) values(%s,%s)\",((data[0],data[1])))\n",
    "\n",
    "conn.commit()"
   ]
  },
  {
   "cell_type": "markdown",
   "id": "3dc3d245",
   "metadata": {},
   "source": [
    "# insert into client table"
   ]
  },
  {
   "cell_type": "code",
   "execution_count": 62,
   "id": "69808697",
   "metadata": {},
   "outputs": [
    {
     "data": {
      "text/html": [
       "<div>\n",
       "<style scoped>\n",
       "    .dataframe tbody tr th:only-of-type {\n",
       "        vertical-align: middle;\n",
       "    }\n",
       "\n",
       "    .dataframe tbody tr th {\n",
       "        vertical-align: top;\n",
       "    }\n",
       "\n",
       "    .dataframe thead th {\n",
       "        text-align: right;\n",
       "    }\n",
       "</style>\n",
       "<table border=\"1\" class=\"dataframe\">\n",
       "  <thead>\n",
       "    <tr style=\"text-align: right;\">\n",
       "      <th></th>\n",
       "      <th>client_id</th>\n",
       "      <th>first_name</th>\n",
       "      <th>middle_name</th>\n",
       "      <th>last_name</th>\n",
       "      <th>phone</th>\n",
       "      <th>email</th>\n",
       "      <th>passport</th>\n",
       "      <th>iata_country_code</th>\n",
       "    </tr>\n",
       "  </thead>\n",
       "  <tbody>\n",
       "    <tr>\n",
       "      <th>1</th>\n",
       "      <td>1</td>\n",
       "      <td>Zachary</td>\n",
       "      <td>Owens</td>\n",
       "      <td>Johnson</td>\n",
       "      <td>473-739-2089x3405</td>\n",
       "      <td>spencerdowns@hotmail.com</td>\n",
       "      <td>76247149</td>\n",
       "      <td>MO</td>\n",
       "    </tr>\n",
       "    <tr>\n",
       "      <th>2</th>\n",
       "      <td>2</td>\n",
       "      <td>Gary</td>\n",
       "      <td>Roberts</td>\n",
       "      <td>Crane</td>\n",
       "      <td>0578749554</td>\n",
       "      <td>margaret31@rodriguez.com</td>\n",
       "      <td>38383823</td>\n",
       "      <td>MI</td>\n",
       "    </tr>\n",
       "    <tr>\n",
       "      <th>3</th>\n",
       "      <td>3</td>\n",
       "      <td>Crystal</td>\n",
       "      <td>Carlson</td>\n",
       "      <td>Harmon</td>\n",
       "      <td>(618)496-3918x8558</td>\n",
       "      <td>marywright@gmail.com</td>\n",
       "      <td>33462431</td>\n",
       "      <td>PA</td>\n",
       "    </tr>\n",
       "    <tr>\n",
       "      <th>4</th>\n",
       "      <td>4</td>\n",
       "      <td>Misty</td>\n",
       "      <td>Johnson</td>\n",
       "      <td>Savage</td>\n",
       "      <td>(538)083-6394</td>\n",
       "      <td>bharris@yahoo.com</td>\n",
       "      <td>21317682</td>\n",
       "      <td>DE</td>\n",
       "    </tr>\n",
       "    <tr>\n",
       "      <th>5</th>\n",
       "      <td>5</td>\n",
       "      <td>Paul</td>\n",
       "      <td>Woods</td>\n",
       "      <td>Ford</td>\n",
       "      <td>+1-138-947-6518</td>\n",
       "      <td>holly79@gmail.com</td>\n",
       "      <td>20693602</td>\n",
       "      <td>NH</td>\n",
       "    </tr>\n",
       "    <tr>\n",
       "      <th>...</th>\n",
       "      <td>...</td>\n",
       "      <td>...</td>\n",
       "      <td>...</td>\n",
       "      <td>...</td>\n",
       "      <td>...</td>\n",
       "      <td>...</td>\n",
       "      <td>...</td>\n",
       "      <td>...</td>\n",
       "    </tr>\n",
       "    <tr>\n",
       "      <th>299995</th>\n",
       "      <td>299995</td>\n",
       "      <td>Joel</td>\n",
       "      <td>Neal</td>\n",
       "      <td>Hogan</td>\n",
       "      <td>(663)173-7504x3432</td>\n",
       "      <td>scott14@reyes-martinez.biz</td>\n",
       "      <td>32100679</td>\n",
       "      <td>ND</td>\n",
       "    </tr>\n",
       "    <tr>\n",
       "      <th>299996</th>\n",
       "      <td>299996</td>\n",
       "      <td>Sandra</td>\n",
       "      <td>Edwards</td>\n",
       "      <td>Case</td>\n",
       "      <td>400-751-0955x021</td>\n",
       "      <td>brianaperez@clark.com</td>\n",
       "      <td>83568442</td>\n",
       "      <td>CO</td>\n",
       "    </tr>\n",
       "    <tr>\n",
       "      <th>299997</th>\n",
       "      <td>299997</td>\n",
       "      <td>Abigail</td>\n",
       "      <td>Thomas</td>\n",
       "      <td>Wilson</td>\n",
       "      <td>(863)964-8772x157</td>\n",
       "      <td>heather37@hotmail.com</td>\n",
       "      <td>36541737</td>\n",
       "      <td>MO</td>\n",
       "    </tr>\n",
       "    <tr>\n",
       "      <th>299998</th>\n",
       "      <td>299998</td>\n",
       "      <td>Jasmine</td>\n",
       "      <td>Brock</td>\n",
       "      <td>Ford</td>\n",
       "      <td>439.518.9989</td>\n",
       "      <td>mcdonaldkatie@harris.net</td>\n",
       "      <td>34279106</td>\n",
       "      <td>NC</td>\n",
       "    </tr>\n",
       "    <tr>\n",
       "      <th>299999</th>\n",
       "      <td>299999</td>\n",
       "      <td>Kristen</td>\n",
       "      <td>Davis</td>\n",
       "      <td>Porter</td>\n",
       "      <td>+1-959-824-5352x78439</td>\n",
       "      <td>ulee@jordan.com</td>\n",
       "      <td>99509620</td>\n",
       "      <td>OR</td>\n",
       "    </tr>\n",
       "  </tbody>\n",
       "</table>\n",
       "<p>299999 rows × 8 columns</p>\n",
       "</div>"
      ],
      "text/plain": [
       "        client_id first_name middle_name last_name                  phone  \\\n",
       "1               1    Zachary       Owens   Johnson      473-739-2089x3405   \n",
       "2               2       Gary     Roberts     Crane             0578749554   \n",
       "3               3    Crystal     Carlson    Harmon     (618)496-3918x8558   \n",
       "4               4      Misty     Johnson    Savage          (538)083-6394   \n",
       "5               5       Paul       Woods      Ford        +1-138-947-6518   \n",
       "...           ...        ...         ...       ...                    ...   \n",
       "299995     299995       Joel        Neal     Hogan     (663)173-7504x3432   \n",
       "299996     299996     Sandra     Edwards      Case       400-751-0955x021   \n",
       "299997     299997    Abigail      Thomas    Wilson      (863)964-8772x157   \n",
       "299998     299998    Jasmine       Brock      Ford           439.518.9989   \n",
       "299999     299999    Kristen       Davis    Porter  +1-959-824-5352x78439   \n",
       "\n",
       "                             email  passport iata_country_code  \n",
       "1         spencerdowns@hotmail.com  76247149                MO  \n",
       "2         margaret31@rodriguez.com  38383823                MI  \n",
       "3             marywright@gmail.com  33462431                PA  \n",
       "4                bharris@yahoo.com  21317682                DE  \n",
       "5                holly79@gmail.com  20693602                NH  \n",
       "...                            ...       ...               ...  \n",
       "299995  scott14@reyes-martinez.biz  32100679                ND  \n",
       "299996       brianaperez@clark.com  83568442                CO  \n",
       "299997       heather37@hotmail.com  36541737                MO  \n",
       "299998    mcdonaldkatie@harris.net  34279106                NC  \n",
       "299999             ulee@jordan.com  99509620                OR  \n",
       "\n",
       "[299999 rows x 8 columns]"
      ]
     },
     "execution_count": 62,
     "metadata": {},
     "output_type": "execute_result"
    }
   ],
   "source": [
    "path = \"D:/DE_classes/repos/Futurense-mysql/sql/Airline/clients_3lacs.csv\"\n",
    "\n",
    "clients = pd.read_csv(path,usecols=lambda x: x != 'Unnamed: 0')\n",
    "clients = clients.drop(0)\n",
    "\n",
    "clients"
   ]
  },
  {
   "cell_type": "code",
   "execution_count": 63,
   "id": "12c4237c",
   "metadata": {},
   "outputs": [
    {
     "data": {
      "text/plain": [
       "(299999, 8)"
      ]
     },
     "execution_count": 63,
     "metadata": {},
     "output_type": "execute_result"
    }
   ],
   "source": [
    "clients.shape"
   ]
  },
  {
   "cell_type": "code",
   "execution_count": 64,
   "id": "a05439d4",
   "metadata": {},
   "outputs": [],
   "source": [
    "for idx,data in clients.iterrows():\n",
    "    data = tuple(data.to_list())\n",
    "    cur.execute(\"insert into client(client_id,first_name,middle_name,last_name,phone,email,passport,iata_state_code)values(%s,%s,%s,%s,%s,%s,%s,%s)\",data)"
   ]
  },
  {
   "cell_type": "code",
   "execution_count": 65,
   "id": "1eeb7b09",
   "metadata": {},
   "outputs": [],
   "source": [
    "conn.commit()"
   ]
  },
  {
   "cell_type": "markdown",
   "id": "16102873",
   "metadata": {},
   "source": [
    "## insert into schedule table"
   ]
  },
  {
   "cell_type": "code",
   "execution_count": 66,
   "id": "6597dde0",
   "metadata": {
    "scrolled": false
   },
   "outputs": [
    {
     "name": "stdout",
     "output_type": "stream",
     "text": [
      "182 183\n",
      "220 221\n",
      "1492 1493\n",
      "1545 1546\n",
      "3067 3068\n",
      "3122 3123\n",
      "4591 4592\n",
      "4641 4642\n",
      "6149 6150\n",
      "6211 6212\n",
      "9252 9253\n",
      "9300 9301\n",
      "12294 12295\n",
      "12349 12350\n",
      "14798 14799\n",
      "14842 14843\n",
      "16288 16289\n",
      "16342 16343\n",
      "19372 19373\n",
      "19424 19425\n",
      "20908 20909\n",
      "20969 20970\n",
      "22528 22529\n",
      "22585 22586\n",
      "26391 26392\n",
      "26447 26448\n",
      "29572 29573\n",
      "29622 29623\n",
      "31133 31134\n",
      "31186 31187\n",
      "32740 32741\n",
      "32801 32802\n",
      "35240 35241\n",
      "35293 35294\n",
      "36800 36801\n",
      "36852 36853\n",
      "42543 42544\n",
      "42599 42600\n"
     ]
    }
   ],
   "source": [
    "path = \"D:/DE_classes/repos/Futurense-mysql/sql/Airline/tbl_schedule_ev.csv\"\n",
    "\n",
    "schedule = pd.read_csv(path,usecols=lambda x: x!= 'Unnamed: 0')\n",
    "#schedule.rename(columns={\"Unnamed: 0\":\"schedule_id\"},inplace=True)\n",
    "#schedule = schedule.drop(0)\n",
    "schedule.shape\n",
    "\n",
    "# schedule['DEPARTURE_TIME'] = schedule['DEPARTURE_TIME'].replace('n:an','10:00')\n",
    "# schedule['DEPARTURE_TIME'] = schedule['DEPARTURE_TIME'].apply(lambda x:str(pd.to_datetime(x,format='%H:%M'))).split()[1]\n",
    "\n",
    "\n",
    "\n",
    "for idx,data in schedule.iterrows():\n",
    "    data = tuple(data)\n",
    "    #print(data)\n",
    "    try:\n",
    "        cur.execute(\"insert into schedule(departure_date,schedule_id,origin_iata_airport_code,dest_iata_airport_code,departure_time_gmt,arrival_time_gmt) values(%s,%s,%s,%s,%s,%s)\",data)\n",
    "    except:\n",
    "        print(idx,data[1])\n",
    "conn.commit()"
   ]
  },
  {
   "cell_type": "markdown",
   "id": "57ca44fa",
   "metadata": {
    "scrolled": true
   },
   "source": [
    "# insert into flights table"
   ]
  },
  {
   "cell_type": "code",
   "execution_count": 69,
   "id": "dff18313",
   "metadata": {
    "scrolled": true
   },
   "outputs": [],
   "source": [
    "path = \"D:/DE_classes/repos/Futurense-mysql/sql/Airline/tbl_flights_ev.csv\"\n",
    "\n",
    "flights = pd.read_csv(path,usecols=lambda x: x!= 'Unnamed: 0')\n",
    "flights['status']=[1 for i in range(44716)]\n",
    "#len(flights['FLIGHT_NUMBER'].unique())\n",
    "# for idx,data in flights.iterrows():\n",
    "#     try:\n",
    "#         data = tuple(data)\n",
    "#         cur.execute(\"insert into flight(flight_call,schedule_id,flight_status_id) values(%s,%s,%s)\",data)\n",
    "#     except:\n",
    "#         print(idx)\n",
    "    \n"
   ]
  },
  {
   "cell_type": "code",
   "execution_count": null,
   "id": "057bc57e",
   "metadata": {},
   "outputs": [],
   "source": [
    "conn.commit()"
   ]
  },
  {
   "cell_type": "code",
   "execution_count": 155,
   "id": "e1b2451e",
   "metadata": {
    "scrolled": true
   },
   "outputs": [
    {
     "data": {
      "text/html": [
       "<div>\n",
       "<style scoped>\n",
       "    .dataframe tbody tr th:only-of-type {\n",
       "        vertical-align: middle;\n",
       "    }\n",
       "\n",
       "    .dataframe tbody tr th {\n",
       "        vertical-align: top;\n",
       "    }\n",
       "\n",
       "    .dataframe thead th {\n",
       "        text-align: right;\n",
       "    }\n",
       "</style>\n",
       "<table border=\"1\" class=\"dataframe\">\n",
       "  <thead>\n",
       "    <tr style=\"text-align: right;\">\n",
       "      <th></th>\n",
       "      <th>FLIGHT_NUMBER</th>\n",
       "      <th>schedule_id</th>\n",
       "      <th>status</th>\n",
       "    </tr>\n",
       "  </thead>\n",
       "  <tbody>\n",
       "    <tr>\n",
       "      <th>0</th>\n",
       "      <td>4685</td>\n",
       "      <td>1</td>\n",
       "      <td>NaN</td>\n",
       "    </tr>\n",
       "    <tr>\n",
       "      <th>1</th>\n",
       "      <td>5583</td>\n",
       "      <td>2</td>\n",
       "      <td>NaN</td>\n",
       "    </tr>\n",
       "    <tr>\n",
       "      <th>2</th>\n",
       "      <td>5187</td>\n",
       "      <td>3</td>\n",
       "      <td>NaN</td>\n",
       "    </tr>\n",
       "    <tr>\n",
       "      <th>3</th>\n",
       "      <td>5764</td>\n",
       "      <td>4</td>\n",
       "      <td>NaN</td>\n",
       "    </tr>\n",
       "    <tr>\n",
       "      <th>4</th>\n",
       "      <td>4557</td>\n",
       "      <td>5</td>\n",
       "      <td>NaN</td>\n",
       "    </tr>\n",
       "    <tr>\n",
       "      <th>...</th>\n",
       "      <td>...</td>\n",
       "      <td>...</td>\n",
       "      <td>...</td>\n",
       "    </tr>\n",
       "    <tr>\n",
       "      <th>44711</th>\n",
       "      <td>6180</td>\n",
       "      <td>44712</td>\n",
       "      <td>NaN</td>\n",
       "    </tr>\n",
       "    <tr>\n",
       "      <th>44712</th>\n",
       "      <td>5742</td>\n",
       "      <td>44713</td>\n",
       "      <td>NaN</td>\n",
       "    </tr>\n",
       "    <tr>\n",
       "      <th>44713</th>\n",
       "      <td>4133</td>\n",
       "      <td>44714</td>\n",
       "      <td>NaN</td>\n",
       "    </tr>\n",
       "    <tr>\n",
       "      <th>44714</th>\n",
       "      <td>4651</td>\n",
       "      <td>44715</td>\n",
       "      <td>NaN</td>\n",
       "    </tr>\n",
       "    <tr>\n",
       "      <th>44715</th>\n",
       "      <td>5292</td>\n",
       "      <td>44716</td>\n",
       "      <td>NaN</td>\n",
       "    </tr>\n",
       "  </tbody>\n",
       "</table>\n",
       "<p>44716 rows × 3 columns</p>\n",
       "</div>"
      ],
      "text/plain": [
       "       FLIGHT_NUMBER  schedule_id  status\n",
       "0               4685            1     NaN\n",
       "1               5583            2     NaN\n",
       "2               5187            3     NaN\n",
       "3               5764            4     NaN\n",
       "4               4557            5     NaN\n",
       "...              ...          ...     ...\n",
       "44711           6180        44712     NaN\n",
       "44712           5742        44713     NaN\n",
       "44713           4133        44714     NaN\n",
       "44714           4651        44715     NaN\n",
       "44715           5292        44716     NaN\n",
       "\n",
       "[44716 rows x 3 columns]"
      ]
     },
     "execution_count": 155,
     "metadata": {},
     "output_type": "execute_result"
    }
   ],
   "source": [
    "flights"
   ]
  },
  {
   "cell_type": "markdown",
   "id": "b3006b7b",
   "metadata": {},
   "source": [
    "# insert into bookings"
   ]
  },
  {
   "cell_type": "code",
   "execution_count": 68,
   "id": "36f67572",
   "metadata": {},
   "outputs": [
    {
     "ename": "DataError",
     "evalue": "1264 (22003): Out of range value for column 'seat_price' at row 1",
     "output_type": "error",
     "traceback": [
      "\u001b[1;31m---------------------------------------------------------------------------\u001b[0m",
      "\u001b[1;31mMySQLInterfaceError\u001b[0m                       Traceback (most recent call last)",
      "File \u001b[1;32m~\\anaconda3\\lib\\site-packages\\mysql\\connector\\connection_cext.py:565\u001b[0m, in \u001b[0;36mCMySQLConnection.cmd_query\u001b[1;34m(self, query, raw, buffered, raw_as_string)\u001b[0m\n\u001b[0;32m    564\u001b[0m         query \u001b[38;5;241m=\u001b[39m query\u001b[38;5;241m.\u001b[39mencode(\u001b[38;5;124m\"\u001b[39m\u001b[38;5;124mutf-8\u001b[39m\u001b[38;5;124m\"\u001b[39m)\n\u001b[1;32m--> 565\u001b[0m     \u001b[38;5;28;43mself\u001b[39;49m\u001b[38;5;241;43m.\u001b[39;49m\u001b[43m_cmysql\u001b[49m\u001b[38;5;241;43m.\u001b[39;49m\u001b[43mquery\u001b[49m\u001b[43m(\u001b[49m\n\u001b[0;32m    566\u001b[0m \u001b[43m        \u001b[49m\u001b[43mquery\u001b[49m\u001b[43m,\u001b[49m\n\u001b[0;32m    567\u001b[0m \u001b[43m        \u001b[49m\u001b[43mraw\u001b[49m\u001b[38;5;241;43m=\u001b[39;49m\u001b[43mraw\u001b[49m\u001b[43m,\u001b[49m\n\u001b[0;32m    568\u001b[0m \u001b[43m        \u001b[49m\u001b[43mbuffered\u001b[49m\u001b[38;5;241;43m=\u001b[39;49m\u001b[43mbuffered\u001b[49m\u001b[43m,\u001b[49m\n\u001b[0;32m    569\u001b[0m \u001b[43m        \u001b[49m\u001b[43mraw_as_string\u001b[49m\u001b[38;5;241;43m=\u001b[39;49m\u001b[43mraw_as_string\u001b[49m\u001b[43m,\u001b[49m\n\u001b[0;32m    570\u001b[0m \u001b[43m        \u001b[49m\u001b[43mquery_attrs\u001b[49m\u001b[38;5;241;43m=\u001b[39;49m\u001b[38;5;28;43mself\u001b[39;49m\u001b[38;5;241;43m.\u001b[39;49m\u001b[43m_query_attrs\u001b[49m\u001b[43m,\u001b[49m\n\u001b[0;32m    571\u001b[0m \u001b[43m    \u001b[49m\u001b[43m)\u001b[49m\n\u001b[0;32m    572\u001b[0m \u001b[38;5;28;01mexcept\u001b[39;00m MySQLInterfaceError \u001b[38;5;28;01mas\u001b[39;00m err:\n",
      "\u001b[1;31mMySQLInterfaceError\u001b[0m: Out of range value for column 'seat_price' at row 1",
      "\nThe above exception was the direct cause of the following exception:\n",
      "\u001b[1;31mDataError\u001b[0m                                 Traceback (most recent call last)",
      "Input \u001b[1;32mIn [68]\u001b[0m, in \u001b[0;36m<cell line: 3>\u001b[1;34m()\u001b[0m\n\u001b[0;32m      3\u001b[0m \u001b[38;5;28;01mfor\u001b[39;00m idx,data \u001b[38;5;129;01min\u001b[39;00m bookings\u001b[38;5;241m.\u001b[39miterrows():\n\u001b[0;32m      4\u001b[0m     data \u001b[38;5;241m=\u001b[39m \u001b[38;5;28mtuple\u001b[39m((data[\u001b[38;5;241m0\u001b[39m],data[\u001b[38;5;241m1\u001b[39m],data[\u001b[38;5;241m2\u001b[39m],data[\u001b[38;5;241m3\u001b[39m],data[\u001b[38;5;241m6\u001b[39m],data[\u001b[38;5;241m5\u001b[39m]))\n\u001b[1;32m----> 5\u001b[0m     \u001b[43mcur\u001b[49m\u001b[38;5;241;43m.\u001b[39;49m\u001b[43mexecute\u001b[49m\u001b[43m(\u001b[49m\u001b[38;5;124;43m\"\u001b[39;49m\u001b[38;5;124;43minsert into booking(client_id,flight_call,aircraft_id,seat_id,departure_date,seat_price) values(\u001b[39;49m\u001b[38;5;132;43;01m%s\u001b[39;49;00m\u001b[38;5;124;43m,\u001b[39;49m\u001b[38;5;132;43;01m%s\u001b[39;49;00m\u001b[38;5;124;43m,\u001b[39;49m\u001b[38;5;132;43;01m%s\u001b[39;49;00m\u001b[38;5;124;43m,\u001b[39;49m\u001b[38;5;132;43;01m%s\u001b[39;49;00m\u001b[38;5;124;43m,\u001b[39;49m\u001b[38;5;132;43;01m%s\u001b[39;49;00m\u001b[38;5;124;43m,\u001b[39;49m\u001b[38;5;132;43;01m%s\u001b[39;49;00m\u001b[38;5;124;43m)\u001b[39;49m\u001b[38;5;124;43m\"\u001b[39;49m\u001b[43m,\u001b[49m\u001b[43mdata\u001b[49m\u001b[43m)\u001b[49m\n\u001b[0;32m      7\u001b[0m conn\u001b[38;5;241m.\u001b[39mcommit()\n",
      "File \u001b[1;32m~\\anaconda3\\lib\\site-packages\\mysql\\connector\\cursor_cext.py:279\u001b[0m, in \u001b[0;36mCMySQLCursor.execute\u001b[1;34m(self, operation, params, multi)\u001b[0m\n\u001b[0;32m    274\u001b[0m             \u001b[38;5;28;01mraise\u001b[39;00m ProgrammingError(\n\u001b[0;32m    275\u001b[0m                 \u001b[38;5;124m\"\u001b[39m\u001b[38;5;124mNot all parameters were used in the SQL statement\u001b[39m\u001b[38;5;124m\"\u001b[39m\n\u001b[0;32m    276\u001b[0m             )\n\u001b[0;32m    278\u001b[0m \u001b[38;5;28;01mtry\u001b[39;00m:\n\u001b[1;32m--> 279\u001b[0m     result \u001b[38;5;241m=\u001b[39m \u001b[38;5;28;43mself\u001b[39;49m\u001b[38;5;241;43m.\u001b[39;49m\u001b[43m_cnx\u001b[49m\u001b[38;5;241;43m.\u001b[39;49m\u001b[43mcmd_query\u001b[49m\u001b[43m(\u001b[49m\n\u001b[0;32m    280\u001b[0m \u001b[43m        \u001b[49m\u001b[43mstmt\u001b[49m\u001b[43m,\u001b[49m\n\u001b[0;32m    281\u001b[0m \u001b[43m        \u001b[49m\u001b[43mraw\u001b[49m\u001b[38;5;241;43m=\u001b[39;49m\u001b[38;5;28;43mself\u001b[39;49m\u001b[38;5;241;43m.\u001b[39;49m\u001b[43m_raw\u001b[49m\u001b[43m,\u001b[49m\n\u001b[0;32m    282\u001b[0m \u001b[43m        \u001b[49m\u001b[43mbuffered\u001b[49m\u001b[38;5;241;43m=\u001b[39;49m\u001b[38;5;28;43mself\u001b[39;49m\u001b[38;5;241;43m.\u001b[39;49m\u001b[43m_buffered\u001b[49m\u001b[43m,\u001b[49m\n\u001b[0;32m    283\u001b[0m \u001b[43m        \u001b[49m\u001b[43mraw_as_string\u001b[49m\u001b[38;5;241;43m=\u001b[39;49m\u001b[38;5;28;43mself\u001b[39;49m\u001b[38;5;241;43m.\u001b[39;49m\u001b[43m_raw_as_string\u001b[49m\u001b[43m,\u001b[49m\n\u001b[0;32m    284\u001b[0m \u001b[43m    \u001b[49m\u001b[43m)\u001b[49m\n\u001b[0;32m    285\u001b[0m \u001b[38;5;28;01mexcept\u001b[39;00m MySQLInterfaceError \u001b[38;5;28;01mas\u001b[39;00m err:\n\u001b[0;32m    286\u001b[0m     \u001b[38;5;28;01mraise\u001b[39;00m get_mysql_exception(\n\u001b[0;32m    287\u001b[0m         msg\u001b[38;5;241m=\u001b[39merr\u001b[38;5;241m.\u001b[39mmsg, errno\u001b[38;5;241m=\u001b[39merr\u001b[38;5;241m.\u001b[39merrno, sqlstate\u001b[38;5;241m=\u001b[39merr\u001b[38;5;241m.\u001b[39msqlstate\n\u001b[0;32m    288\u001b[0m     ) \u001b[38;5;28;01mfrom\u001b[39;00m \u001b[38;5;21;01merr\u001b[39;00m\n",
      "File \u001b[1;32m~\\anaconda3\\lib\\site-packages\\mysql\\connector\\connection_cext.py:573\u001b[0m, in \u001b[0;36mCMySQLConnection.cmd_query\u001b[1;34m(self, query, raw, buffered, raw_as_string)\u001b[0m\n\u001b[0;32m    565\u001b[0m     \u001b[38;5;28mself\u001b[39m\u001b[38;5;241m.\u001b[39m_cmysql\u001b[38;5;241m.\u001b[39mquery(\n\u001b[0;32m    566\u001b[0m         query,\n\u001b[0;32m    567\u001b[0m         raw\u001b[38;5;241m=\u001b[39mraw,\n\u001b[1;32m   (...)\u001b[0m\n\u001b[0;32m    570\u001b[0m         query_attrs\u001b[38;5;241m=\u001b[39m\u001b[38;5;28mself\u001b[39m\u001b[38;5;241m.\u001b[39m_query_attrs,\n\u001b[0;32m    571\u001b[0m     )\n\u001b[0;32m    572\u001b[0m \u001b[38;5;28;01mexcept\u001b[39;00m MySQLInterfaceError \u001b[38;5;28;01mas\u001b[39;00m err:\n\u001b[1;32m--> 573\u001b[0m     \u001b[38;5;28;01mraise\u001b[39;00m get_mysql_exception(\n\u001b[0;32m    574\u001b[0m         err\u001b[38;5;241m.\u001b[39merrno, msg\u001b[38;5;241m=\u001b[39merr\u001b[38;5;241m.\u001b[39mmsg, sqlstate\u001b[38;5;241m=\u001b[39merr\u001b[38;5;241m.\u001b[39msqlstate\n\u001b[0;32m    575\u001b[0m     ) \u001b[38;5;28;01mfrom\u001b[39;00m \u001b[38;5;21;01merr\u001b[39;00m\n\u001b[0;32m    576\u001b[0m \u001b[38;5;28;01mexcept\u001b[39;00m \u001b[38;5;167;01mAttributeError\u001b[39;00m \u001b[38;5;28;01mas\u001b[39;00m err:\n\u001b[0;32m    577\u001b[0m     addr \u001b[38;5;241m=\u001b[39m (\n\u001b[0;32m    578\u001b[0m         \u001b[38;5;28mself\u001b[39m\u001b[38;5;241m.\u001b[39m_unix_socket \u001b[38;5;28;01mif\u001b[39;00m \u001b[38;5;28mself\u001b[39m\u001b[38;5;241m.\u001b[39m_unix_socket \u001b[38;5;28;01melse\u001b[39;00m \u001b[38;5;124mf\u001b[39m\u001b[38;5;124m\"\u001b[39m\u001b[38;5;132;01m{\u001b[39;00m\u001b[38;5;28mself\u001b[39m\u001b[38;5;241m.\u001b[39m_host\u001b[38;5;132;01m}\u001b[39;00m\u001b[38;5;124m:\u001b[39m\u001b[38;5;132;01m{\u001b[39;00m\u001b[38;5;28mself\u001b[39m\u001b[38;5;241m.\u001b[39m_port\u001b[38;5;132;01m}\u001b[39;00m\u001b[38;5;124m\"\u001b[39m\n\u001b[0;32m    579\u001b[0m     )\n",
      "\u001b[1;31mDataError\u001b[0m: 1264 (22003): Out of range value for column 'seat_price' at row 1"
     ]
    }
   ],
   "source": [
    "path = \"D:/DE_classes/repos/Futurense-mysql/sql/Airline/tbl_booking_ev.csv\"\n",
    "bookings = pd.read_csv(path,usecols=lambda x: x != 'Unnamed: 0')\n",
    "for idx,data in bookings.iterrows():\n",
    "    data = tuple((data[0],data[1],data[2],data[3],data[6],data[5]))\n",
    "    cur.execute(\"insert into booking(client_id,flight_call,aircraft_id,seat_id,departure_date,seat_price) values(%s,%s,%s,%s,%s,%s)\",data)\n",
    "    \n",
    "conn.commit()"
   ]
  },
  {
   "cell_type": "code",
   "execution_count": 43,
   "id": "f67f752f",
   "metadata": {},
   "outputs": [],
   "source": [
    "conn.close()"
   ]
  },
  {
   "cell_type": "code",
   "execution_count": 73,
   "id": "dff9a37e",
   "metadata": {
    "scrolled": false
   },
   "outputs": [],
   "source": [
    "#schedule['depart_time']  =  str(pd.to_datetime(schedule['depart_time'],format='%H:%M')).split()[1]\n"
   ]
  },
  {
   "cell_type": "code",
   "execution_count": 7,
   "id": "7f41e04c",
   "metadata": {},
   "outputs": [],
   "source": [
    "cur.execute(\"Select * from aircraft\")"
   ]
  },
  {
   "cell_type": "code",
   "execution_count": 42,
   "id": "5c99cfde",
   "metadata": {},
   "outputs": [
    {
     "ename": "IntegrityError",
     "evalue": "1452 (23000): Cannot add or update a child row: a foreign key constraint fails (`flightdatabase`.`booking`, CONSTRAINT `fk_client_id_booking` FOREIGN KEY (`client_id`) REFERENCES `client` (`client_id`) ON DELETE CASCADE ON UPDATE CASCADE)",
     "output_type": "error",
     "traceback": [
      "\u001b[1;31m---------------------------------------------------------------------------\u001b[0m",
      "\u001b[1;31mMySQLInterfaceError\u001b[0m                       Traceback (most recent call last)",
      "File \u001b[1;32m~\\anaconda3\\lib\\site-packages\\mysql\\connector\\connection_cext.py:565\u001b[0m, in \u001b[0;36mCMySQLConnection.cmd_query\u001b[1;34m(self, query, raw, buffered, raw_as_string)\u001b[0m\n\u001b[0;32m    564\u001b[0m         query \u001b[38;5;241m=\u001b[39m query\u001b[38;5;241m.\u001b[39mencode(\u001b[38;5;124m\"\u001b[39m\u001b[38;5;124mutf-8\u001b[39m\u001b[38;5;124m\"\u001b[39m)\n\u001b[1;32m--> 565\u001b[0m     \u001b[38;5;28;43mself\u001b[39;49m\u001b[38;5;241;43m.\u001b[39;49m\u001b[43m_cmysql\u001b[49m\u001b[38;5;241;43m.\u001b[39;49m\u001b[43mquery\u001b[49m\u001b[43m(\u001b[49m\n\u001b[0;32m    566\u001b[0m \u001b[43m        \u001b[49m\u001b[43mquery\u001b[49m\u001b[43m,\u001b[49m\n\u001b[0;32m    567\u001b[0m \u001b[43m        \u001b[49m\u001b[43mraw\u001b[49m\u001b[38;5;241;43m=\u001b[39;49m\u001b[43mraw\u001b[49m\u001b[43m,\u001b[49m\n\u001b[0;32m    568\u001b[0m \u001b[43m        \u001b[49m\u001b[43mbuffered\u001b[49m\u001b[38;5;241;43m=\u001b[39;49m\u001b[43mbuffered\u001b[49m\u001b[43m,\u001b[49m\n\u001b[0;32m    569\u001b[0m \u001b[43m        \u001b[49m\u001b[43mraw_as_string\u001b[49m\u001b[38;5;241;43m=\u001b[39;49m\u001b[43mraw_as_string\u001b[49m\u001b[43m,\u001b[49m\n\u001b[0;32m    570\u001b[0m \u001b[43m        \u001b[49m\u001b[43mquery_attrs\u001b[49m\u001b[38;5;241;43m=\u001b[39;49m\u001b[38;5;28;43mself\u001b[39;49m\u001b[38;5;241;43m.\u001b[39;49m\u001b[43m_query_attrs\u001b[49m\u001b[43m,\u001b[49m\n\u001b[0;32m    571\u001b[0m \u001b[43m    \u001b[49m\u001b[43m)\u001b[49m\n\u001b[0;32m    572\u001b[0m \u001b[38;5;28;01mexcept\u001b[39;00m MySQLInterfaceError \u001b[38;5;28;01mas\u001b[39;00m err:\n",
      "\u001b[1;31mMySQLInterfaceError\u001b[0m: Cannot add or update a child row: a foreign key constraint fails (`flightdatabase`.`booking`, CONSTRAINT `fk_client_id_booking` FOREIGN KEY (`client_id`) REFERENCES `client` (`client_id`) ON DELETE CASCADE ON UPDATE CASCADE)",
      "\nThe above exception was the direct cause of the following exception:\n",
      "\u001b[1;31mIntegrityError\u001b[0m                            Traceback (most recent call last)",
      "Input \u001b[1;32mIn [42]\u001b[0m, in \u001b[0;36m<cell line: 3>\u001b[1;34m()\u001b[0m\n\u001b[0;32m      3\u001b[0m \u001b[38;5;28;01mfor\u001b[39;00m idx,data \u001b[38;5;129;01min\u001b[39;00m bookings\u001b[38;5;241m.\u001b[39miterrows():\n\u001b[0;32m      4\u001b[0m     data \u001b[38;5;241m=\u001b[39m \u001b[38;5;28mtuple\u001b[39m((data[\u001b[38;5;241m0\u001b[39m],data[\u001b[38;5;241m1\u001b[39m],data[\u001b[38;5;241m2\u001b[39m],data[\u001b[38;5;241m3\u001b[39m],data[\u001b[38;5;241m6\u001b[39m],data[\u001b[38;5;241m5\u001b[39m]))\n\u001b[1;32m----> 5\u001b[0m     \u001b[43mcur\u001b[49m\u001b[38;5;241;43m.\u001b[39;49m\u001b[43mexecute\u001b[49m\u001b[43m(\u001b[49m\u001b[38;5;124;43m\"\u001b[39;49m\u001b[38;5;124;43minsert into booking(client_id,flight_call,aircraft_id,seat_id,departure_date,seat_price) values(\u001b[39;49m\u001b[38;5;132;43;01m%s\u001b[39;49;00m\u001b[38;5;124;43m,\u001b[39;49m\u001b[38;5;132;43;01m%s\u001b[39;49;00m\u001b[38;5;124;43m,\u001b[39;49m\u001b[38;5;132;43;01m%s\u001b[39;49;00m\u001b[38;5;124;43m,\u001b[39;49m\u001b[38;5;132;43;01m%s\u001b[39;49;00m\u001b[38;5;124;43m,\u001b[39;49m\u001b[38;5;132;43;01m%s\u001b[39;49;00m\u001b[38;5;124;43m,\u001b[39;49m\u001b[38;5;132;43;01m%s\u001b[39;49;00m\u001b[38;5;124;43m)\u001b[39;49m\u001b[38;5;124;43m\"\u001b[39;49m\u001b[43m,\u001b[49m\u001b[43mdata\u001b[49m\u001b[43m)\u001b[49m\n",
      "File \u001b[1;32m~\\anaconda3\\lib\\site-packages\\mysql\\connector\\cursor_cext.py:279\u001b[0m, in \u001b[0;36mCMySQLCursor.execute\u001b[1;34m(self, operation, params, multi)\u001b[0m\n\u001b[0;32m    274\u001b[0m             \u001b[38;5;28;01mraise\u001b[39;00m ProgrammingError(\n\u001b[0;32m    275\u001b[0m                 \u001b[38;5;124m\"\u001b[39m\u001b[38;5;124mNot all parameters were used in the SQL statement\u001b[39m\u001b[38;5;124m\"\u001b[39m\n\u001b[0;32m    276\u001b[0m             )\n\u001b[0;32m    278\u001b[0m \u001b[38;5;28;01mtry\u001b[39;00m:\n\u001b[1;32m--> 279\u001b[0m     result \u001b[38;5;241m=\u001b[39m \u001b[38;5;28;43mself\u001b[39;49m\u001b[38;5;241;43m.\u001b[39;49m\u001b[43m_cnx\u001b[49m\u001b[38;5;241;43m.\u001b[39;49m\u001b[43mcmd_query\u001b[49m\u001b[43m(\u001b[49m\n\u001b[0;32m    280\u001b[0m \u001b[43m        \u001b[49m\u001b[43mstmt\u001b[49m\u001b[43m,\u001b[49m\n\u001b[0;32m    281\u001b[0m \u001b[43m        \u001b[49m\u001b[43mraw\u001b[49m\u001b[38;5;241;43m=\u001b[39;49m\u001b[38;5;28;43mself\u001b[39;49m\u001b[38;5;241;43m.\u001b[39;49m\u001b[43m_raw\u001b[49m\u001b[43m,\u001b[49m\n\u001b[0;32m    282\u001b[0m \u001b[43m        \u001b[49m\u001b[43mbuffered\u001b[49m\u001b[38;5;241;43m=\u001b[39;49m\u001b[38;5;28;43mself\u001b[39;49m\u001b[38;5;241;43m.\u001b[39;49m\u001b[43m_buffered\u001b[49m\u001b[43m,\u001b[49m\n\u001b[0;32m    283\u001b[0m \u001b[43m        \u001b[49m\u001b[43mraw_as_string\u001b[49m\u001b[38;5;241;43m=\u001b[39;49m\u001b[38;5;28;43mself\u001b[39;49m\u001b[38;5;241;43m.\u001b[39;49m\u001b[43m_raw_as_string\u001b[49m\u001b[43m,\u001b[49m\n\u001b[0;32m    284\u001b[0m \u001b[43m    \u001b[49m\u001b[43m)\u001b[49m\n\u001b[0;32m    285\u001b[0m \u001b[38;5;28;01mexcept\u001b[39;00m MySQLInterfaceError \u001b[38;5;28;01mas\u001b[39;00m err:\n\u001b[0;32m    286\u001b[0m     \u001b[38;5;28;01mraise\u001b[39;00m get_mysql_exception(\n\u001b[0;32m    287\u001b[0m         msg\u001b[38;5;241m=\u001b[39merr\u001b[38;5;241m.\u001b[39mmsg, errno\u001b[38;5;241m=\u001b[39merr\u001b[38;5;241m.\u001b[39merrno, sqlstate\u001b[38;5;241m=\u001b[39merr\u001b[38;5;241m.\u001b[39msqlstate\n\u001b[0;32m    288\u001b[0m     ) \u001b[38;5;28;01mfrom\u001b[39;00m \u001b[38;5;21;01merr\u001b[39;00m\n",
      "File \u001b[1;32m~\\anaconda3\\lib\\site-packages\\mysql\\connector\\connection_cext.py:573\u001b[0m, in \u001b[0;36mCMySQLConnection.cmd_query\u001b[1;34m(self, query, raw, buffered, raw_as_string)\u001b[0m\n\u001b[0;32m    565\u001b[0m     \u001b[38;5;28mself\u001b[39m\u001b[38;5;241m.\u001b[39m_cmysql\u001b[38;5;241m.\u001b[39mquery(\n\u001b[0;32m    566\u001b[0m         query,\n\u001b[0;32m    567\u001b[0m         raw\u001b[38;5;241m=\u001b[39mraw,\n\u001b[1;32m   (...)\u001b[0m\n\u001b[0;32m    570\u001b[0m         query_attrs\u001b[38;5;241m=\u001b[39m\u001b[38;5;28mself\u001b[39m\u001b[38;5;241m.\u001b[39m_query_attrs,\n\u001b[0;32m    571\u001b[0m     )\n\u001b[0;32m    572\u001b[0m \u001b[38;5;28;01mexcept\u001b[39;00m MySQLInterfaceError \u001b[38;5;28;01mas\u001b[39;00m err:\n\u001b[1;32m--> 573\u001b[0m     \u001b[38;5;28;01mraise\u001b[39;00m get_mysql_exception(\n\u001b[0;32m    574\u001b[0m         err\u001b[38;5;241m.\u001b[39merrno, msg\u001b[38;5;241m=\u001b[39merr\u001b[38;5;241m.\u001b[39mmsg, sqlstate\u001b[38;5;241m=\u001b[39merr\u001b[38;5;241m.\u001b[39msqlstate\n\u001b[0;32m    575\u001b[0m     ) \u001b[38;5;28;01mfrom\u001b[39;00m \u001b[38;5;21;01merr\u001b[39;00m\n\u001b[0;32m    576\u001b[0m \u001b[38;5;28;01mexcept\u001b[39;00m \u001b[38;5;167;01mAttributeError\u001b[39;00m \u001b[38;5;28;01mas\u001b[39;00m err:\n\u001b[0;32m    577\u001b[0m     addr \u001b[38;5;241m=\u001b[39m (\n\u001b[0;32m    578\u001b[0m         \u001b[38;5;28mself\u001b[39m\u001b[38;5;241m.\u001b[39m_unix_socket \u001b[38;5;28;01mif\u001b[39;00m \u001b[38;5;28mself\u001b[39m\u001b[38;5;241m.\u001b[39m_unix_socket \u001b[38;5;28;01melse\u001b[39;00m \u001b[38;5;124mf\u001b[39m\u001b[38;5;124m\"\u001b[39m\u001b[38;5;132;01m{\u001b[39;00m\u001b[38;5;28mself\u001b[39m\u001b[38;5;241m.\u001b[39m_host\u001b[38;5;132;01m}\u001b[39;00m\u001b[38;5;124m:\u001b[39m\u001b[38;5;132;01m{\u001b[39;00m\u001b[38;5;28mself\u001b[39m\u001b[38;5;241m.\u001b[39m_port\u001b[38;5;132;01m}\u001b[39;00m\u001b[38;5;124m\"\u001b[39m\n\u001b[0;32m    579\u001b[0m     )\n",
      "\u001b[1;31mIntegrityError\u001b[0m: 1452 (23000): Cannot add or update a child row: a foreign key constraint fails (`flightdatabase`.`booking`, CONSTRAINT `fk_client_id_booking` FOREIGN KEY (`client_id`) REFERENCES `client` (`client_id`) ON DELETE CASCADE ON UPDATE CASCADE)"
     ]
    }
   ],
   "source": []
  },
  {
   "cell_type": "code",
   "execution_count": 39,
   "id": "251183eb",
   "metadata": {},
   "outputs": [
    {
     "data": {
      "text/html": [
       "<div>\n",
       "<style scoped>\n",
       "    .dataframe tbody tr th:only-of-type {\n",
       "        vertical-align: middle;\n",
       "    }\n",
       "\n",
       "    .dataframe tbody tr th {\n",
       "        vertical-align: top;\n",
       "    }\n",
       "\n",
       "    .dataframe thead th {\n",
       "        text-align: right;\n",
       "    }\n",
       "</style>\n",
       "<table border=\"1\" class=\"dataframe\">\n",
       "  <thead>\n",
       "    <tr style=\"text-align: right;\">\n",
       "      <th></th>\n",
       "      <th>client_id</th>\n",
       "      <th>flight_call</th>\n",
       "      <th>aircraft_id</th>\n",
       "      <th>seat_id</th>\n",
       "      <th>trvl_class</th>\n",
       "      <th>seat_price</th>\n",
       "      <th>date</th>\n",
       "      <th>distance</th>\n",
       "    </tr>\n",
       "  </thead>\n",
       "  <tbody>\n",
       "    <tr>\n",
       "      <th>0</th>\n",
       "      <td>207950</td>\n",
       "      <td>4257</td>\n",
       "      <td>N10575</td>\n",
       "      <td>S74</td>\n",
       "      <td>E</td>\n",
       "      <td>51.7</td>\n",
       "      <td>2023-01-4</td>\n",
       "      <td>517</td>\n",
       "    </tr>\n",
       "    <tr>\n",
       "      <th>1</th>\n",
       "      <td>168950</td>\n",
       "      <td>3951</td>\n",
       "      <td>N10575</td>\n",
       "      <td>S50</td>\n",
       "      <td>E</td>\n",
       "      <td>80.9</td>\n",
       "      <td>2023-01-9</td>\n",
       "      <td>809</td>\n",
       "    </tr>\n",
       "    <tr>\n",
       "      <th>2</th>\n",
       "      <td>56906</td>\n",
       "      <td>4861</td>\n",
       "      <td>N10575</td>\n",
       "      <td>S7</td>\n",
       "      <td>B</td>\n",
       "      <td>51.7</td>\n",
       "      <td>2023-01-3</td>\n",
       "      <td>517</td>\n",
       "    </tr>\n",
       "    <tr>\n",
       "      <th>3</th>\n",
       "      <td>247438</td>\n",
       "      <td>4384</td>\n",
       "      <td>N10575</td>\n",
       "      <td>S77</td>\n",
       "      <td>E</td>\n",
       "      <td>80.9</td>\n",
       "      <td>2023-01-25</td>\n",
       "      <td>809</td>\n",
       "    </tr>\n",
       "    <tr>\n",
       "      <th>4</th>\n",
       "      <td>34883</td>\n",
       "      <td>3922</td>\n",
       "      <td>N10575</td>\n",
       "      <td>S115</td>\n",
       "      <td>E</td>\n",
       "      <td>80.9</td>\n",
       "      <td>2023-01-16</td>\n",
       "      <td>809</td>\n",
       "    </tr>\n",
       "    <tr>\n",
       "      <th>...</th>\n",
       "      <td>...</td>\n",
       "      <td>...</td>\n",
       "      <td>...</td>\n",
       "      <td>...</td>\n",
       "      <td>...</td>\n",
       "      <td>...</td>\n",
       "      <td>...</td>\n",
       "      <td>...</td>\n",
       "    </tr>\n",
       "    <tr>\n",
       "      <th>99995</th>\n",
       "      <td>215700</td>\n",
       "      <td>5435</td>\n",
       "      <td>N981EV</td>\n",
       "      <td>S36</td>\n",
       "      <td>B</td>\n",
       "      <td>43.3</td>\n",
       "      <td>2023-01-21</td>\n",
       "      <td>433</td>\n",
       "    </tr>\n",
       "    <tr>\n",
       "      <th>99996</th>\n",
       "      <td>128013</td>\n",
       "      <td>5042</td>\n",
       "      <td>N981EV</td>\n",
       "      <td>S164</td>\n",
       "      <td>E</td>\n",
       "      <td>31.4</td>\n",
       "      <td>2023-01-21</td>\n",
       "      <td>164</td>\n",
       "    </tr>\n",
       "    <tr>\n",
       "      <th>99997</th>\n",
       "      <td>32866</td>\n",
       "      <td>5306</td>\n",
       "      <td>N981EV</td>\n",
       "      <td>S81</td>\n",
       "      <td>E</td>\n",
       "      <td>39.1</td>\n",
       "      <td>2023-01-24</td>\n",
       "      <td>241</td>\n",
       "    </tr>\n",
       "    <tr>\n",
       "      <th>99998</th>\n",
       "      <td>278174</td>\n",
       "      <td>5042</td>\n",
       "      <td>N981EV</td>\n",
       "      <td>S126</td>\n",
       "      <td>E</td>\n",
       "      <td>30.2</td>\n",
       "      <td>2023-01-3</td>\n",
       "      <td>302</td>\n",
       "    </tr>\n",
       "    <tr>\n",
       "      <th>99999</th>\n",
       "      <td>214417</td>\n",
       "      <td>5313</td>\n",
       "      <td>N981EV</td>\n",
       "      <td>S234</td>\n",
       "      <td>E</td>\n",
       "      <td>31.7</td>\n",
       "      <td>2023-01-26</td>\n",
       "      <td>317</td>\n",
       "    </tr>\n",
       "  </tbody>\n",
       "</table>\n",
       "<p>100000 rows × 8 columns</p>\n",
       "</div>"
      ],
      "text/plain": [
       "       client_id  flight_call aircraft_id seat_id trvl_class  seat_price  \\\n",
       "0         207950         4257      N10575     S74          E        51.7   \n",
       "1         168950         3951      N10575     S50          E        80.9   \n",
       "2          56906         4861      N10575      S7          B        51.7   \n",
       "3         247438         4384      N10575     S77          E        80.9   \n",
       "4          34883         3922      N10575    S115          E        80.9   \n",
       "...          ...          ...         ...     ...        ...         ...   \n",
       "99995     215700         5435      N981EV     S36          B        43.3   \n",
       "99996     128013         5042      N981EV    S164          E        31.4   \n",
       "99997      32866         5306      N981EV     S81          E        39.1   \n",
       "99998     278174         5042      N981EV    S126          E        30.2   \n",
       "99999     214417         5313      N981EV    S234          E        31.7   \n",
       "\n",
       "             date  distance  \n",
       "0       2023-01-4       517  \n",
       "1       2023-01-9       809  \n",
       "2       2023-01-3       517  \n",
       "3      2023-01-25       809  \n",
       "4      2023-01-16       809  \n",
       "...           ...       ...  \n",
       "99995  2023-01-21       433  \n",
       "99996  2023-01-21       164  \n",
       "99997  2023-01-24       241  \n",
       "99998   2023-01-3       302  \n",
       "99999  2023-01-26       317  \n",
       "\n",
       "[100000 rows x 8 columns]"
      ]
     },
     "execution_count": 39,
     "metadata": {},
     "output_type": "execute_result"
    }
   ],
   "source": [
    "bookings"
   ]
  },
  {
   "cell_type": "code",
   "execution_count": null,
   "id": "c5efc8de",
   "metadata": {},
   "outputs": [],
   "source": []
  }
 ],
 "metadata": {
  "kernelspec": {
   "display_name": "Python 3 (ipykernel)",
   "language": "python",
   "name": "python3"
  },
  "language_info": {
   "codemirror_mode": {
    "name": "ipython",
    "version": 3
   },
   "file_extension": ".py",
   "mimetype": "text/x-python",
   "name": "python",
   "nbconvert_exporter": "python",
   "pygments_lexer": "ipython3",
   "version": "3.9.12"
  }
 },
 "nbformat": 4,
 "nbformat_minor": 5
}
