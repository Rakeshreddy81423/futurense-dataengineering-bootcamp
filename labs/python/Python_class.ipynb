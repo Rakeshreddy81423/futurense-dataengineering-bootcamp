{
 "cells": [
  {
   "cell_type": "markdown",
   "id": "fa0ce37a",
   "metadata": {},
   "source": [
    "17-01-2023"
   ]
  },
  {
   "cell_type": "code",
   "execution_count": 1,
   "id": "2c81e0fa",
   "metadata": {},
   "outputs": [
    {
     "name": "stdout",
     "output_type": "stream",
     "text": [
      "<class 'int'>\n"
     ]
    }
   ],
   "source": [
    "age = 100\n",
    "print(type(age))"
   ]
  },
  {
   "cell_type": "code",
   "execution_count": 8,
   "id": "8c7839e8",
   "metadata": {},
   "outputs": [
    {
     "name": "stdout",
     "output_type": "stream",
     "text": [
      "1959014132624\n",
      "1959014132624\n",
      "1959014132656\n"
     ]
    }
   ],
   "source": [
    "age = 20\n",
    "\n",
    "# all the variables having same data will be pointing to the same memory location\n",
    "age = age + 1\n",
    "rak = 20\n",
    "\n",
    "ind = 20\n",
    "\n",
    "print(id(ind))\n",
    "print(id(rak))\n",
    "\n",
    "print(id(age))"
   ]
  },
  {
   "cell_type": "code",
   "execution_count": 10,
   "id": "8ca4b7a4",
   "metadata": {},
   "outputs": [
    {
     "ename": "NameError",
     "evalue": "name 'age' is not defined",
     "output_type": "error",
     "traceback": [
      "\u001b[1;31m---------------------------------------------------------------------------\u001b[0m",
      "\u001b[1;31mNameError\u001b[0m                                 Traceback (most recent call last)",
      "Input \u001b[1;32mIn [10]\u001b[0m, in \u001b[0;36m<cell line: 1>\u001b[1;34m()\u001b[0m\n\u001b[1;32m----> 1\u001b[0m \u001b[38;5;28;01mdel\u001b[39;00m age\n\u001b[0;32m      2\u001b[0m \u001b[38;5;28mprint\u001b[39m(age)\n\u001b[0;32m      4\u001b[0m \u001b[38;5;124;03m'''\u001b[39;00m\n\u001b[0;32m      5\u001b[0m \u001b[38;5;124;03m    comments\u001b[39;00m\n\u001b[0;32m      6\u001b[0m \u001b[38;5;124;03m'''\u001b[39;00m\n",
      "\u001b[1;31mNameError\u001b[0m: name 'age' is not defined"
     ]
    }
   ],
   "source": [
    "del age\n",
    "print(age)\n",
    "\n"
   ]
  },
  {
   "cell_type": "code",
   "execution_count": 12,
   "id": "2250849f",
   "metadata": {},
   "outputs": [
    {
     "data": {
      "text/plain": [
       "'\\ncomments\\n'"
      ]
     },
     "execution_count": 12,
     "metadata": {},
     "output_type": "execute_result"
    }
   ],
   "source": [
    "'''\n",
    "comments\n",
    "'''"
   ]
  },
  {
   "cell_type": "markdown",
   "id": "46061f77",
   "metadata": {},
   "source": [
    "## String interpolation/ formatting"
   ]
  },
  {
   "cell_type": "code",
   "execution_count": 15,
   "id": "c544a501",
   "metadata": {},
   "outputs": [
    {
     "name": "stdout",
     "output_type": "stream",
     "text": [
      "my age is 60\n",
      "my age is 60\n",
      "my company is futurense and year is 2023\n"
     ]
    }
   ],
   "source": [
    "age = 60\n",
    "year = 2023\n",
    "company = 'futurense'\n",
    "print(\"my age is\",age)\n",
    "\n",
    "print(f\"my age is {age}\")\n",
    "\n",
    "print(f\"my company is {company} and year is {year}\")"
   ]
  },
  {
   "cell_type": "code",
   "execution_count": 17,
   "id": "f1913cb4",
   "metadata": {},
   "outputs": [
    {
     "name": "stdout",
     "output_type": "stream",
     "text": [
      "hey user rakesh\n"
     ]
    }
   ],
   "source": [
    "username ='rakesh'\n",
    "message = f'hey user {username}'\n",
    "print(message)"
   ]
  },
  {
   "cell_type": "code",
   "execution_count": 19,
   "id": "c6dbed33",
   "metadata": {},
   "outputs": [
    {
     "name": "stdout",
     "output_type": "stream",
     "text": [
      "hey user rakesh\n"
     ]
    }
   ],
   "source": [
    "# this will not be updated in message because message is a string \n",
    "username = 'sasi'\n",
    "\n",
    "print(message)"
   ]
  },
  {
   "cell_type": "code",
   "execution_count": 25,
   "id": "48575c5b",
   "metadata": {},
   "outputs": [
    {
     "name": "stdout",
     "output_type": "stream",
     "text": [
      "name rakesh companyhello\n"
     ]
    }
   ],
   "source": [
    "print(\"name {} company{}\".format(\"rakesh\",\"hello\"))"
   ]
  },
  {
   "cell_type": "code",
   "execution_count": 27,
   "id": "64e6d3dc",
   "metadata": {},
   "outputs": [
    {
     "data": {
      "text/plain": [
       "512"
      ]
     },
     "execution_count": 27,
     "metadata": {},
     "output_type": "execute_result"
    }
   ],
   "source": [
    "# for exponents the execution starts fromright to left\n",
    "2**3**2"
   ]
  },
  {
   "cell_type": "code",
   "execution_count": 28,
   "id": "3cb43f12",
   "metadata": {},
   "outputs": [
    {
     "data": {
      "text/plain": [
       "11.333333333333334"
      ]
     },
     "execution_count": 28,
     "metadata": {},
     "output_type": "execute_result"
    }
   ],
   "source": [
    "14*2/3+6-2%3-2"
   ]
  },
  {
   "cell_type": "code",
   "execution_count": 30,
   "id": "2d2b62c9",
   "metadata": {},
   "outputs": [
    {
     "data": {
      "text/plain": [
       "24"
      ]
     },
     "execution_count": 30,
     "metadata": {},
     "output_type": "execute_result"
    }
   ],
   "source": [
    "\n",
    "\"\"\"\n",
    "priority of precedence\n",
    "1.) **\n",
    "2.) *, /, %, //\n",
    "3.) + - \n",
    "\"\"\"\n",
    "10*2+6-2%3**2"
   ]
  },
  {
   "cell_type": "code",
   "execution_count": 15,
   "id": "d18a1b0c",
   "metadata": {},
   "outputs": [
    {
     "data": {
      "text/plain": [
       "7"
      ]
     },
     "execution_count": 15,
     "metadata": {},
     "output_type": "execute_result"
    }
   ],
   "source": [
    "\n",
    "-2 % 3 **2"
   ]
  },
  {
   "cell_type": "code",
   "execution_count": 48,
   "id": "49ff7e79",
   "metadata": {},
   "outputs": [
    {
     "name": "stdout",
     "output_type": "stream",
     "text": [
      "8\n",
      "1\n",
      "0\n",
      "3\n"
     ]
    }
   ],
   "source": [
    "print(2 << 2)\n",
    "print(2 >> 1)\n",
    "print(2&1)\n",
    "print(2 | 1)\n"
   ]
  },
  {
   "cell_type": "code",
   "execution_count": 51,
   "id": "f726432c",
   "metadata": {},
   "outputs": [
    {
     "name": "stdout",
     "output_type": "stream",
     "text": [
      "True\n"
     ]
    },
    {
     "data": {
      "text/plain": [
       "False"
      ]
     },
     "execution_count": 51,
     "metadata": {},
     "output_type": "execute_result"
    }
   ],
   "source": [
    "# membership operator\n",
    "print(10 in [10,20,30])\n",
    "\n",
    "'s' not in 'school'"
   ]
  },
  {
   "cell_type": "code",
   "execution_count": 21,
   "id": "89553c46",
   "metadata": {},
   "outputs": [
    {
     "name": "stdout",
     "output_type": "stream",
     "text": [
      "True\n",
      "False\n"
     ]
    }
   ],
   "source": [
    "#identity => datatype or object belong to a class\n",
    "\n",
    "print(type(60) is int)\n",
    "\n",
    "print(type('hello')is chr)"
   ]
  },
  {
   "cell_type": "code",
   "execution_count": 66,
   "id": "567a4a70",
   "metadata": {},
   "outputs": [],
   "source": [
    "# take two numbers from user check if numbers belongs to integers  do arithmetic operation\n",
    "#else give a  message that values are not integers and take the integers\n",
    "\n",
    "# inp1 = input(\"input1: \")\n",
    "# inp2 = input(\"input2: \")\n",
    "\n",
    "\n",
    "\n",
    "    \n",
    "# print(int(inp1))\n",
    "    \n"
   ]
  },
  {
   "cell_type": "code",
   "execution_count": 70,
   "id": "17b0bbb2",
   "metadata": {},
   "outputs": [
    {
     "name": "stdout",
     "output_type": "stream",
     "text": [
      "erolg\n",
      "ore\n"
     ]
    }
   ],
   "source": [
    "city ='banglore'\n",
    "print(city[-1:-6:-1])\n",
    "\n",
    "print(city[-3::1])"
   ]
  },
  {
   "cell_type": "code",
   "execution_count": 73,
   "id": "6bd568d2",
   "metadata": {},
   "outputs": [
    {
     "name": "stdout",
     "output_type": "stream",
     "text": [
      "0\n",
      "1\n",
      "2\n",
      "3\n",
      "4\n",
      "5\n",
      "6\n",
      "7\n",
      "8\n",
      "9\n",
      "0\n",
      "1\n",
      "2\n"
     ]
    }
   ],
   "source": [
    "# when to use for and when to use while\n",
    "\"\"\"\n",
    "Depends on the situation.\n",
    "if we know how many times we need to run a loop then moslty we prefer for loop.\n",
    "Example scenario:\n",
    "-----------------\n",
    "print prime numbers below 100  (for loop)\n",
    "print first 100 prime numbers (while)\n",
    "\n",
    "\"\"\"\n",
    "\n",
    "for i in range(10):\n",
    "    print(i)\n",
    "\n",
    "i = 0\n",
    "while(i<3):\n",
    "    print(i)\n",
    "    i+=1"
   ]
  },
  {
   "cell_type": "markdown",
   "id": "498fe33e",
   "metadata": {},
   "source": [
    "##### Take a input as a password from a user and validate the following conditions.\n",
    "##### The password should contain alteast 1 cap,  1 small, 1 number [0-6], a special char [@,#, '$',\n",
    "##### if any condition is not fullfilled then ask for the input from the user upto 3 times\n",
    "##### after 3rd try print the message \"try limit exceeded\"\n",
    "note : don't use any libraries"
   ]
  },
  {
   "cell_type": "code",
   "execution_count": 84,
   "id": "b09ca93e",
   "metadata": {},
   "outputs": [
    {
     "name": "stdout",
     "output_type": "stream",
     "text": [
      "Enter a password: Rakesh123@\n",
      "Good password\n"
     ]
    }
   ],
   "source": [
    "\n",
    "limit = 3 \n",
    "small_count = 0\n",
    "cap_count = 0\n",
    "special_count = 0\n",
    "num_count = 0\n",
    "\n",
    "while(limit > 0):\n",
    "    password = input(\"Enter a password: \")\n",
    "    for character in password:\n",
    "        if ord(character) >= 65 and ord(character) <= 90 and cap_count == 0:\n",
    "            cap_count +=1\n",
    "        elif ord(character) >= 97 and ord(character) <= 122 and small_count == 0:\n",
    "            small_count +=1\n",
    "        elif ord(character)>= 48 and ord(character)<=54 and num_count == 0:\n",
    "            num_count+=1\n",
    "        elif character in ['@','#','$'] and special_count == 0:\n",
    "            special_count +=1\n",
    "        \n",
    "    if small_count != 0 and cap_count != 0 and special_count != 0 and num_count != 0:\n",
    "        print(\"Good password\")\n",
    "        break\n",
    "    else:\n",
    "        small_count = 0\n",
    "        cap_count = 0\n",
    "        special_count = 0\n",
    "        num_count = 0\n",
    "        limit -=1\n",
    "        if limit == 0:\n",
    "            print(\"Try limit exceed\")\n",
    "        \n",
    "        \n",
    "            \n",
    "            "
   ]
  },
  {
   "cell_type": "markdown",
   "id": "aa535b05",
   "metadata": {},
   "source": [
    "# OPPS"
   ]
  },
  {
   "cell_type": "code",
   "execution_count": 23,
   "id": "543a0f37",
   "metadata": {},
   "outputs": [
    {
     "name": "stdout",
     "output_type": "stream",
     "text": [
      "John\n",
      "Young person\n"
     ]
    }
   ],
   "source": [
    "class Person:\n",
    "    def __init__(self,name,age):\n",
    "        self.name = name\n",
    "        self.age = age\n",
    "    \n",
    "    def first_name(self):\n",
    "        return self.name.split()[0]\n",
    "    \n",
    "    def age_category(self):\n",
    "        if self.age < 18:\n",
    "            return \"Child\"\n",
    "        elif self.age >=18 and self.age < 60:\n",
    "            return \"Young person\"\n",
    "        return \"Senior citizen\"\n",
    "        \n",
    "    \n",
    "p1 = Person(\"John Doe\",37)\n",
    "print(p1.first_name())\n",
    "\n",
    "print(p1.age_category())"
   ]
  },
  {
   "cell_type": "code",
   "execution_count": 11,
   "id": "f99c4ff5",
   "metadata": {},
   "outputs": [
    {
     "name": "stdout",
     "output_type": "stream",
     "text": [
      "Enter the name: khod\n",
      "Enter the age: -3\n",
      "Invalid age\n",
      "Enter the age: skdjfn\n",
      "Age should be int\n",
      "Enter the age: 9\n"
     ]
    }
   ],
   "source": [
    "name = input(\"Enter the name: \")\n",
    "while(True):\n",
    "    try:\n",
    "        age = int(input(\"Enter the age: \"))\n",
    "        if age < 0:\n",
    "            raise Exception()\n",
    "        else:\n",
    "            break\n",
    "\n",
    "    except ValueError:\n",
    "        print(\"Age should be int\")\n",
    "    except:\n",
    "        print(\"Invalid age\")\n",
    "    \n",
    "    \n",
    "        \n",
    "    \n",
    "    \n",
    "\n"
   ]
  },
  {
   "cell_type": "code",
   "execution_count": 3,
   "id": "b3f87660",
   "metadata": {},
   "outputs": [
    {
     "name": "stdout",
     "output_type": "stream",
     "text": [
      "Enter dob(yyyy-mm-dd): 1980-13-2\n",
      "Invalid dob\n",
      "Enter dob(yyyy-mm-dd): 1980-11-31\n",
      "Valid dob\n"
     ]
    }
   ],
   "source": [
    "while True:\n",
    "    try:\n",
    "        year,month,day = map(int, input(\"Enter dob(yyyy-mm-dd): \").split(\"-\"))\n",
    "        if year > 1900  and (month>= 1 and month <=12) and (day>0 and day<=31):\n",
    "            if year % 4 == 0 and (year % 400 == 0 or year % 100 == 0):\n",
    "                if month == 2 and (day<=29):  \n",
    "                    print(\"Valid dob\")\n",
    "            else:\n",
    "                if month == 2 and day<=28\n",
    "                    print(\"valid job\")\n",
    "                    \n",
    "            break\n",
    "        else:\n",
    "            raise Exception()\n",
    "    except:\n",
    "        print(\"Invalid dob\")"
   ]
  },
  {
   "cell_type": "markdown",
   "id": "76a79fd7",
   "metadata": {},
   "source": [
    "# Inheritance"
   ]
  },
  {
   "cell_type": "code",
   "execution_count": 24,
   "id": "1f0fa336",
   "metadata": {},
   "outputs": [
    {
     "name": "stdout",
     "output_type": "stream",
     "text": [
      "('Jhon Doe', 40, 123443)\n"
     ]
    }
   ],
   "source": [
    "class Patient(Person):\n",
    "    def __init__(self,name,age,ssn):\n",
    "        super().__init__(name,age)\n",
    "        self.ssn = ssn\n",
    "        \n",
    "    def __str__(self):\n",
    "        s = \"The age of \"+str(self.name) +\" is \" + str(self.age) + \".\\n\"\n",
    "        s += \"And the Social security number is \"+ str(self.ssn)\n",
    "        return s\n",
    "   \n",
    "    def __repr__(self):\n",
    "        s = f\"('{self.name}', {self.age}, {self.ssn})\"\n",
    "        return s\n",
    "patient1 = Patient(\"Jhon Doe\",40,123443)\n",
    "\n",
    "print(patient1)\n",
    "print(patient1.__repr__())"
   ]
  },
  {
   "cell_type": "code",
   "execution_count": 14,
   "id": "beb1f091",
   "metadata": {},
   "outputs": [
    {
     "data": {
      "text/plain": [
       "'Jhon'"
      ]
     },
     "execution_count": 14,
     "metadata": {},
     "output_type": "execute_result"
    }
   ],
   "source": [
    "patient1.first_name()"
   ]
  },
  {
   "cell_type": "code",
   "execution_count": 49,
   "id": "4b0d6e0a",
   "metadata": {},
   "outputs": [
    {
     "name": "stdout",
     "output_type": "stream",
     "text": [
      "fname: Rakesh, lname:reddy, age: 25,subjects: ['Python', 'Big-data']\n",
      "['Python', 'Big-data']\n",
      "(Rakesh, reddy, 25, ['Python', 'Big-data'])\n",
      "275\n",
      "fname: Jennifer, lname:Connley, age: 20, Total marks: 275\n"
     ]
    }
   ],
   "source": [
    "class Person:\n",
    "    def __init__(self,fname,lname,age):\n",
    "        self.fname = fname\n",
    "        self.lname = lname\n",
    "        self.age = age\n",
    "        \n",
    "    def __str__(self):\n",
    "        s = f\"fname: {self.fname}, lname:{self.lname}, age: {self.age}\"\n",
    "        return s\n",
    "\n",
    "class Student(Person):\n",
    "    def __init__(self,fname,lname,age,reg_no,maths,science,english):\n",
    "        super().__init__(fname,lname,age)\n",
    "        self.reg_no = reg_no\n",
    "        self.maths = maths\n",
    "        self.science = science\n",
    "        self.english = english\n",
    "    def get_total_marks(self):\n",
    "        return self.maths + self.science + self.english\n",
    "    \n",
    "    def __str__(self):\n",
    "        s = f\"{super().__str__()}, Total marks: {self.get_total_marks()}\"\n",
    "        \n",
    "        return s\n",
    "    \n",
    "    def __repr__(self):\n",
    "        s = f\"({self.fname}, {self.lname}, {self.age}, {self.maths}, {self.science}, {self.english})\"\n",
    "        return s\n",
    "        \n",
    "    \n",
    "\n",
    "class Teacher(Person):\n",
    "    def __init__(self,fname,lname,age,subjects):\n",
    "        super().__init__(fname,lname,age)\n",
    "        self.subjects = subjects\n",
    "        \n",
    "    def get_subjects(self):\n",
    "        return self.subjects\n",
    "    \n",
    "    def __str__(self):\n",
    "        return f\"{super().__str__()},subjects: {self.subjects}\"\n",
    "        \n",
    "    def __repr__(self):\n",
    "        s = f\"({self.fname}, {self.lname}, {self.age}, {self.subjects})\"\n",
    "        return s\n",
    "        \n",
    "    \n",
    "    \n",
    "\n",
    "t1 = Teacher(\"Rakesh\",\"reddy\",25,['Python','Big-data'])\n",
    "t2 = Teacher(\"Virat\",\"Kohli\",34,['Airflow','Pyspark'])\n",
    "\n",
    "print(t1.__str__())\n",
    "print(t1.get_subjects())\n",
    "\n",
    "print(t1.__repr__())\n",
    "        \n",
    "s1 = Student(\"Jennifer\",\"Connley\",20,'S1234',90,90,95)\n",
    "\n",
    "print(s1.get_total_marks())\n",
    "\n",
    "print(s1.__str__())\n",
    "\n",
    "    \n",
    "\n",
    "        \n",
    "\n"
   ]
  },
  {
   "cell_type": "code",
   "execution_count": 51,
   "id": "f3eaaf16",
   "metadata": {},
   "outputs": [
    {
     "name": "stdout",
     "output_type": "stream",
     "text": [
      "fname: Rakesh, lname:reddy, age: 25,subjects: ['Python', 'Big-data']\n",
      "fname: Virat, lname:Kohli, age: 34,subjects: ['Airflow', 'Pyspark']\n"
     ]
    }
   ],
   "source": [
    "class HOD(Teacher):\n",
    "    def __init__(self,department,teachers):\n",
    "        self.deparment = department\n",
    "        self.teachers = teachers\n",
    "        \n",
    "    def get_teacher_details(self):\n",
    "        for t in self.teachers:\n",
    "            print(t.__str__())\n",
    "            \n",
    "            \n",
    "h = HOD('Big-data',[t1,t2])\n",
    "\n",
    "h.get_teacher_details()"
   ]
  },
  {
   "cell_type": "markdown",
   "id": "e19d8847",
   "metadata": {},
   "source": [
    "# Employees"
   ]
  },
  {
   "cell_type": "code",
   "execution_count": 57,
   "id": "11314b47",
   "metadata": {},
   "outputs": [
    {
     "name": "stdout",
     "output_type": "stream",
     "text": [
      "e_manager, 34, Delhi\n",
      "e1, 20, Banglore, 20000\n",
      "e2, 22, Hyderabad, 25000\n",
      "e3, 24, Mumbai, 26000\n"
     ]
    }
   ],
   "source": [
    "class Person:\n",
    "    def __init__(self,name,age,address):\n",
    "        self.name = name\n",
    "        self.age = age\n",
    "        self.address = address\n",
    "        \n",
    "    def __str__(self):\n",
    "        s = f'{self.name}, {self.age}, {self.address}'\n",
    "        return s\n",
    "    def __repr__(self):\n",
    "        s = f'({self.__str__()})'\n",
    "        return s\n",
    "    \n",
    "    \n",
    "class Employee(Person):\n",
    "    def __init__(self,name,age,address,salary):\n",
    "        super().__init__(name,age,address)\n",
    "        self.salary = salary\n",
    "    def __str__(self):\n",
    "        s = f'{super().__str__()}, {self.salary}'\n",
    "        return s\n",
    "\n",
    "class SalesEmployee(Employee):\n",
    "    def __init__(self,name,age,address,salary,bonus):\n",
    "        super().__init__(name,age,address,salary)\n",
    "        self.bonus = bonus\n",
    "    def __str__(self):\n",
    "        s = f'{super().__str(),{self.bonus}}'\n",
    "        return s\n",
    "    \n",
    "    \n",
    "class Manager(Person):\n",
    "    def __init__(self,name,age,address,employees_managed):\n",
    "        super().__init__(name,age,address)\n",
    "        self.emp_managed = employees_managed\n",
    "    def get_employees_details(self):\n",
    "        for emp in self.emp_managed:\n",
    "            print(emp.__str__())\n",
    "            \n",
    "            \n",
    "            \n",
    "e1 = Employee('e1',20,'Banglore',20000)\n",
    "e2 = Employee('e2',22,'Hyderabad',25000)\n",
    "e3 = Employee('e3',24,'Mumbai',26000)\n",
    "\n",
    "m1 = Manager('e_manager',34,'Delhi',[e1,e2,e3])\n",
    "\n",
    "print(m1.__str__())\n",
    "m1.get_employees_details()\n",
    "\n",
    "        "
   ]
  },
  {
   "cell_type": "code",
   "execution_count": 3,
   "id": "fd04c177",
   "metadata": {},
   "outputs": [],
   "source": [
    "li = [1,2,3]\n",
    "li = []"
   ]
  },
  {
   "cell_type": "code",
   "execution_count": 21,
   "id": "e69e615c",
   "metadata": {},
   "outputs": [],
   "source": [
    "l=['mon','sat','tues','mon','wed','thurs','sat','mon','fri','sun']\n",
    "\n",
    "d = {}\n",
    "for val in l:\n",
    "    d[val] = d.get(val,0)+1\n",
    "    \n",
    "\n",
    "k_v = []\n",
    "k_v.append(list(d.keys()))\n",
    "\n",
    "k_v.append(list(d.values()))\n",
    "    \n",
    "    \n"
   ]
  },
  {
   "cell_type": "code",
   "execution_count": 22,
   "id": "9bd32294",
   "metadata": {},
   "outputs": [
    {
     "data": {
      "text/plain": [
       "[['mon', 'sat', 'tues', 'wed', 'thurs', 'fri', 'sun'], [3, 2, 1, 1, 1, 1, 1]]"
      ]
     },
     "execution_count": 22,
     "metadata": {},
     "output_type": "execute_result"
    }
   ],
   "source": [
    "k_v"
   ]
  },
  {
   "cell_type": "markdown",
   "id": "7e67c5cf",
   "metadata": {},
   "source": [
    "# 24-01-23"
   ]
  },
  {
   "cell_type": "code",
   "execution_count": 43,
   "id": "ff47dc19",
   "metadata": {},
   "outputs": [],
   "source": [
    "x= '''\n",
    "Exceptional handling uses:\n",
    "1.) Giving meaningful error messages for the end users.\n",
    "2.) Keep track of error logs for audit and maintainance\n",
    "'''"
   ]
  },
  {
   "cell_type": "code",
   "execution_count": 64,
   "id": "24974e3b",
   "metadata": {},
   "outputs": [
    {
     "name": "stdout",
     "output_type": "stream",
     "text": [
      "main FileNotFound\n",
      "Alternate file not found\n"
     ]
    }
   ],
   "source": [
    "path = 'C:/Users/rakes/OneDrive/Desktop/Assignment_1.txt'\n",
    "alternate_path = 'C:/Users/rakes/OneDrive/Desktop/Assignment/code.txt'\n",
    "txt_file = None\n",
    "try:\n",
    "    with open(path,'r') as file:\n",
    "        data = file.read()\n",
    "        print(data)\n",
    "except FileNotFoundError as e:\n",
    "    print(\"main FileNotFound\")\n",
    "    try:\n",
    "        txt_file = open(alternate_path,'r')\n",
    "        print(txt_file)\n",
    "    except:\n",
    "        print(\"Alternate file not found\")\n",
    "except Exception:\n",
    "    print(\"Unexpected error\")\n",
    "finally:\n",
    "    if txt_file is not None:\n",
    "        txt_file.close()\n",
    "        print(\"file closed\")\n",
    "        "
   ]
  },
  {
   "cell_type": "code",
   "execution_count": 68,
   "id": "e5d9767a",
   "metadata": {},
   "outputs": [
    {
     "ename": "TypeError",
     "evalue": "X should be int",
     "output_type": "error",
     "traceback": [
      "\u001b[1;31m---------------------------------------------------------------------------\u001b[0m",
      "\u001b[1;31mTypeError\u001b[0m                                 Traceback (most recent call last)",
      "Input \u001b[1;32mIn [68]\u001b[0m, in \u001b[0;36m<cell line: 2>\u001b[1;34m()\u001b[0m\n\u001b[0;32m      1\u001b[0m x \u001b[38;5;241m=\u001b[39m \u001b[38;5;124m'\u001b[39m\u001b[38;5;124mhello\u001b[39m\u001b[38;5;124m'\u001b[39m\n\u001b[0;32m      2\u001b[0m \u001b[38;5;28;01mif\u001b[39;00m \u001b[38;5;129;01mnot\u001b[39;00m \u001b[38;5;28mtype\u001b[39m(x) \u001b[38;5;129;01mis\u001b[39;00m \u001b[38;5;28mint\u001b[39m:\n\u001b[1;32m----> 3\u001b[0m     \u001b[38;5;28;01mraise\u001b[39;00m \u001b[38;5;167;01mTypeError\u001b[39;00m(\u001b[38;5;124m\"\u001b[39m\u001b[38;5;124mX should be int\u001b[39m\u001b[38;5;124m\"\u001b[39m)\n",
      "\u001b[1;31mTypeError\u001b[0m: X should be int"
     ]
    }
   ],
   "source": [
    "x = 'hello'\n",
    "if not type(x) is int:\n",
    "    raise TypeError(\"X should be int\")"
   ]
  },
  {
   "cell_type": "markdown",
   "id": "3250d2af",
   "metadata": {},
   "source": [
    "# 28-01-2023"
   ]
  },
  {
   "cell_type": "code",
   "execution_count": 16,
   "id": "7e232514",
   "metadata": {},
   "outputs": [],
   "source": [
    "x = '''\n",
    "1.) difference between py and pyc file.\n",
    "2.) create a numTobin program and write result into a file using 'wb' mode.\n",
    "3.) Difference between ASCII and UTF formats?\n",
    "4.) Why python don't handle the SyntaxError Exception?\n",
    "\n",
    "'''\n"
   ]
  },
  {
   "cell_type": "code",
   "execution_count": 7,
   "id": "f6462b49",
   "metadata": {},
   "outputs": [
    {
     "name": "stdout",
     "output_type": "stream",
     "text": [
      "0\n",
      "second time cursor:  517\n",
      "-- 1.\n",
      "select concat(EmpFname,' ',EmpLname) as fullName from EmployeeInfo\n",
      "where EmpFname like 'S%' and dob between '02-05-1970' and '31-12-1975';\n",
      "\n",
      "-- 2.\n",
      "select  Department,count(EmpID) as deptEmpCount\n",
      "from EmployeeInfo\n",
      "group by Department\n",
      "having count(EmpID) < 2\n",
      "order by deptEmpCount desc;\n",
      "\n",
      "-- 3.\n",
      "select  concat(ei.EmpFname,' ',ei.EmpLname) as full_name,ep.EmpPosition as position from EmployeeInfo ei\n",
      "inner join EmployeePosition ep \n",
      "on ei.EmpID = ep.EmpID\n",
      "where ep.EmpPosition = 'Manager';heyheyhey\n"
     ]
    }
   ],
   "source": [
    "fileObj = open('C:/Users/rakes/OneDrive/Desktop/Assignment.txt','r+')\n",
    "\n",
    "print(fileObj.tell())\n",
    "data = fileObj.read()\n",
    "\n",
    "fileObj.write(\"hey\")\n",
    "print(\"second time cursor: \",fileObj.tell())\n",
    "fileObj.close()\n",
    "print(data)\n"
   ]
  },
  {
   "cell_type": "code",
   "execution_count": 14,
   "id": "9485197f",
   "metadata": {},
   "outputs": [
    {
     "name": "stdout",
     "output_type": "stream",
     "text": [
      "0\n",
      "second time cursor:  5\n",
      "\n"
     ]
    }
   ],
   "source": [
    "fileObj = open('C:/Users/rakes/OneDrive/Desktop/Assignment.txt','w+')\n",
    "\n",
    "print(fileObj.tell())\n",
    "data = fileObj.read()\n",
    "\n",
    "#seek()  used to change the cursor position\n",
    "fileObj.seek(2)\n",
    "fileObj.write(\"hey\")\n",
    "print(\"second time cursor: \",fileObj.tell())\n",
    "fileObj.close()\n",
    "print(data)\n"
   ]
  },
  {
   "cell_type": "code",
   "execution_count": 15,
   "id": "f808cbca",
   "metadata": {},
   "outputs": [],
   "source": [
    "# a, a+, ab, (x,a,w => those which are present and not present)\n"
   ]
  },
  {
   "cell_type": "code",
   "execution_count": 33,
   "id": "6f6f8001",
   "metadata": {},
   "outputs": [
    {
     "data": {
      "text/plain": [
       "'Rajesh'"
      ]
     },
     "execution_count": 33,
     "metadata": {},
     "output_type": "execute_result"
    }
   ],
   "source": [
    "# dir() shows all the attributes and functions present in the file\n",
    "# class is a template having a set of attributes and methods\n",
    "# object is any real time implementation of a class / instance of a class\n",
    "#objects are stored in heap memory and having unique memory addresses.\n",
    "#constructors are methods to assign memory location to the object\n",
    "\n",
    "class Futurense:\n",
    "    def __init__(self,id,name):\n",
    "        self.id = id\n",
    "        self.name = name\n",
    "\n",
    "fObj = Futurense(101,'Rakesh')\n",
    "\n",
    "fObj.name = 'Rajesh'\n",
    "\n",
    "fObj.name\n",
    "\n"
   ]
  },
  {
   "cell_type": "code",
   "execution_count": 38,
   "id": "dcab2a28",
   "metadata": {},
   "outputs": [
    {
     "name": "stdout",
     "output_type": "stream",
     "text": [
      "hey\n"
     ]
    },
    {
     "ename": "AttributeError",
     "evalue": "'hello' object has no attribute 'att'",
     "output_type": "error",
     "traceback": [
      "\u001b[1;31m---------------------------------------------------------------------------\u001b[0m",
      "\u001b[1;31mAttributeError\u001b[0m                            Traceback (most recent call last)",
      "Input \u001b[1;32mIn [38]\u001b[0m, in \u001b[0;36m<cell line: 10>\u001b[1;34m()\u001b[0m\n\u001b[0;32m      6\u001b[0m h \u001b[38;5;241m=\u001b[39m hello()\n\u001b[0;32m      8\u001b[0m \u001b[38;5;66;03m# att is a local variable and we didn't connected it to the object or class\u001b[39;00m\n\u001b[0;32m      9\u001b[0m \u001b[38;5;66;03m# why we use self keyword. because there can be many objects . So to access particular object we use self.\u001b[39;00m\n\u001b[1;32m---> 10\u001b[0m \u001b[43mh\u001b[49m\u001b[38;5;241;43m.\u001b[39;49m\u001b[43matt\u001b[49m\n",
      "\u001b[1;31mAttributeError\u001b[0m: 'hello' object has no attribute 'att'"
     ]
    }
   ],
   "source": [
    "class hello:\n",
    "    def __init__(self):\n",
    "        att = 1\n",
    "        print(\"hey\")\n",
    "\n",
    "h = hello()\n",
    "\n",
    "# att is a local variable and we didn't connected it to the object or class\n",
    "# why we use self keyword. because there can be many objects . So to access particular object we use self.\n",
    "h.att\n"
   ]
  },
  {
   "cell_type": "code",
   "execution_count": 45,
   "id": "5c467e48",
   "metadata": {},
   "outputs": [
    {
     "name": "stdout",
     "output_type": "stream",
     "text": [
      "<__main__.Person object at 0x0000021BBD7E5310> <__main__.Person object at 0x0000021BBD7E5FA0>\n",
      "a\n",
      "B\n",
      "20\n"
     ]
    }
   ],
   "source": [
    "class Person:\n",
    "    #here fname and lname are local variables.\n",
    "    x = 20\n",
    "    def __init__(self,fname,lname):\n",
    "        self.fname = fname\n",
    "        self.lname = lname\n",
    "    \n",
    "    \n",
    "p1 = Person('a','A')\n",
    "p2 = Person('b','B')\n",
    "        \n",
    "print(p1,p2)\n",
    "print(p1.fname)\n",
    "print(p2.lname)\n",
    "print(Person.x)\n"
   ]
  },
  {
   "cell_type": "code",
   "execution_count": 47,
   "id": "069d179d",
   "metadata": {},
   "outputs": [
    {
     "name": "stdout",
     "output_type": "stream",
     "text": [
      "1000\n"
     ]
    }
   ],
   "source": [
    "# Method Resolution Order mostly happens in Multiple inheritance\n",
    "# order of execution of classes will be considered for the MRO\n",
    "'''\n",
    "class c1:\n",
    "    abc()\n",
    "class c2:\n",
    "    abc()\n",
    "class c3(c1,c2):\n",
    "    dab()\n",
    "c = c3()\n",
    "c.abc()\n",
    "c1.abc() will be accessed because it considers classes in order of passing\n",
    "'''\n",
    "class Father:\n",
    "    sal = 25000\n",
    "    \n",
    "class Child(Father):\n",
    "    newSal = 1000\n",
    "    \n",
    "c1 = Child()\n",
    "print(c1.newSal)"
   ]
  },
  {
   "cell_type": "markdown",
   "id": "9788ca24",
   "metadata": {},
   "source": [
    "# 30-01-2023"
   ]
  },
  {
   "cell_type": "code",
   "execution_count": 4,
   "id": "508903c2",
   "metadata": {},
   "outputs": [
    {
     "ename": "TypeError",
     "evalue": "func() missing 1 required positional argument: 'self'",
     "output_type": "error",
     "traceback": [
      "\u001b[1;31m---------------------------------------------------------------------------\u001b[0m",
      "\u001b[1;31mTypeError\u001b[0m                                 Traceback (most recent call last)",
      "Input \u001b[1;32mIn [4]\u001b[0m, in \u001b[0;36m<cell line: 14>\u001b[1;34m()\u001b[0m\n\u001b[0;32m      9\u001b[0m         \u001b[38;5;28msuper\u001b[39m()\u001b[38;5;241m.\u001b[39mfunc()\n\u001b[0;32m     11\u001b[0m c3Obj \u001b[38;5;241m=\u001b[39m c3()\n\u001b[1;32m---> 14\u001b[0m \u001b[43mc3\u001b[49m\u001b[38;5;241;43m.\u001b[39;49m\u001b[43mfunc\u001b[49m\u001b[43m(\u001b[49m\u001b[43m)\u001b[49m\n",
      "\u001b[1;31mTypeError\u001b[0m: func() missing 1 required positional argument: 'self'"
     ]
    }
   ],
   "source": [
    "class c1:\n",
    "    def func(self):\n",
    "        print(\"c1\")\n",
    "class c2(c1):\n",
    "    def func(self):\n",
    "        super().func()\n",
    "class c3(c2):\n",
    "    def func(self):\n",
    "        super().func()\n",
    "    \n",
    "c3Obj = c3()\n",
    "\n",
    "\n",
    "c3.func()"
   ]
  },
  {
   "cell_type": "code",
   "execution_count": 5,
   "id": "ed1a1c05",
   "metadata": {},
   "outputs": [],
   "source": [
    "## Polymorphism\n",
    "x ='''\n",
    "1.) What are dender methods? Uses?\n",
    "2.)\n",
    "'''"
   ]
  },
  {
   "cell_type": "code",
   "execution_count": 12,
   "id": "56bc3aa1",
   "metadata": {},
   "outputs": [
    {
     "name": "stdout",
     "output_type": "stream",
     "text": [
      "This is a student class\n",
      "This is a hobbie class\n",
      "This is a student class\n"
     ]
    }
   ],
   "source": [
    "class Student:\n",
    "    def studentInfo(self,x):\n",
    "        print(\"This is a student class\")\n",
    "class StudentHobbies(Student):\n",
    "    def studentInfo(self,x):\n",
    "        super().studentInfo(x)\n",
    "        print(\"This is a hobbie class\")\n",
    "        \n",
    "sh1 = StudentHobbies()\n",
    "\n",
    "sh1.studentInfo(10)\n",
    "\n",
    "s = Student()\n",
    "s.studentInfo(10)"
   ]
  },
  {
   "cell_type": "code",
   "execution_count": 29,
   "id": "442e6998",
   "metadata": {},
   "outputs": [
    {
     "name": "stdout",
     "output_type": "stream",
     "text": [
      "hey num1: 20, num2: 10\n",
      "30\n",
      "hey num1: 50, num2: 30\n"
     ]
    }
   ],
   "source": [
    "class Futurense:\n",
    "    def __init__(self,num1,num2):\n",
    "        self.num1 = num1\n",
    "        self.num2 = num2\n",
    "        \n",
    "    #acts as a representation of the object\n",
    "    def __str__(self):\n",
    "        return f\"hey num1: {self.num1}, num2: {self.num2}\"\n",
    "    \n",
    "    def __add__(obj2,self):\n",
    "        print(self.num1)\n",
    "        num1 = self.num1 + self.num2\n",
    "        num2 = obj2.num1 + obj2.num2\n",
    "        return Futurense(num1,num2)\n",
    "        \n",
    "f1 = Futurense(20,10)\n",
    "print(f1)\n",
    "\n",
    "f2 = Futurense(30,20)\n",
    "\n",
    "print(f1+f2)\n"
   ]
  },
  {
   "cell_type": "code",
   "execution_count": 39,
   "id": "aa2d9b92",
   "metadata": {},
   "outputs": [
    {
     "name": "stdout",
     "output_type": "stream",
     "text": [
      "True\n"
     ]
    }
   ],
   "source": [
    "class Greater:\n",
    "    def __init__(self,num1,num2):\n",
    "        self.num1 = num1\n",
    "        self.num2 = num2\n",
    "    def __str__(self):\n",
    "        return f\"Data is {self.num1}, {self.num2}\"\n",
    "    def __add__(self,obj1):\n",
    "        sq1 = self.num1 ** 2 + obj1.num2 **2 # 100 + 49\n",
    "        sq2 = self.num2 ** 2 + obj1.num2 **2 # 25 + 400\n",
    "        \n",
    "        return not (sq1 > sq2)\n",
    "    \n",
    "g1 = Greater(10,20) # 100 + 400\n",
    "g2 = Greater(5,7) # 25 + 49\n",
    " \n",
    "print(g1 + g2)\n",
    "\n"
   ]
  },
  {
   "cell_type": "code",
   "execution_count": 44,
   "id": "cb568b81",
   "metadata": {
    "scrolled": false
   },
   "outputs": [
    {
     "name": "stdout",
     "output_type": "stream",
     "text": [
      "hi\n"
     ]
    }
   ],
   "source": [
    "# where the program executions starts\n",
    "# variable which consists workflow where the program starts\n",
    "if __name__== \"__main__\":\n",
    "    print(\"hi\")"
   ]
  },
  {
   "cell_type": "code",
   "execution_count": 45,
   "id": "d8b6ee7a",
   "metadata": {},
   "outputs": [
    {
     "name": "stdout",
     "output_type": "stream",
     "text": [
      "name:  __main__\n"
     ]
    }
   ],
   "source": [
    "print(\"name: \",__name__)"
   ]
  },
  {
   "cell_type": "markdown",
   "id": "7a93d930",
   "metadata": {},
   "source": [
    "# Encapsulation"
   ]
  },
  {
   "cell_type": "code",
   "execution_count": 47,
   "id": "34d56564",
   "metadata": {},
   "outputs": [],
   "source": [
    "# public: accessed any where\n",
    "# private: accessed only with in the class not in program from same package or other\n",
    "# protected: they can be accessed with in class and inherited classes from same folder or other\n",
    "# default( package protected): can be accessed only inside the same package not in other"
   ]
  },
  {
   "cell_type": "code",
   "execution_count": 66,
   "id": "d026037a",
   "metadata": {},
   "outputs": [],
   "source": [
    "# and python dont have all the above mentioned keywords. They make use of notations for behave like a access modifiers\n",
    "# for encapsulation python uses specific concept called notation\n",
    "# _age representation for protected , __salary represented for private\n",
    "# the process of python changing the private variable to any variable called as name mangling."
   ]
  },
  {
   "cell_type": "code",
   "execution_count": 95,
   "id": "6a9afba3",
   "metadata": {},
   "outputs": [
    {
     "name": "stdout",
     "output_type": "stream",
     "text": [
      "100000\n"
     ]
    }
   ],
   "source": [
    "class Trainer:\n",
    "    \n",
    "    #private variable\n",
    "    __salary = 100000\n",
    "    \n",
    "    #protected variable \n",
    "    _age = 20\n",
    "    \n",
    "class Learner(Trainer):\n",
    "    newPackage = 1000\n",
    "    \n",
    "    \n",
    "l = Learner()\n",
    "#print(l.__salary)\n",
    "print(l._Trainer__salary)\n",
    "    "
   ]
  },
  {
   "cell_type": "code",
   "execution_count": 69,
   "id": "2d040d16",
   "metadata": {},
   "outputs": [],
   "source": [
    "# name space we can't have duplicates"
   ]
  },
  {
   "cell_type": "code",
   "execution_count": 70,
   "id": "a4617763",
   "metadata": {},
   "outputs": [],
   "source": [
    "# Abstraction"
   ]
  },
  {
   "cell_type": "code",
   "execution_count": 71,
   "id": "81cbdb84",
   "metadata": {},
   "outputs": [],
   "source": [
    "# pass will gives us a null pointer reference in the background"
   ]
  },
  {
   "cell_type": "code",
   "execution_count": 94,
   "id": "008f4c3f",
   "metadata": {},
   "outputs": [
    {
     "name": "stdout",
     "output_type": "stream",
     "text": [
      "testHr\n",
      "hi hr user\n"
     ]
    }
   ],
   "source": [
    "# abstract class is a type of class which contains some type of implementation\n",
    "#such that it should be implemented in the child classes\n",
    "\n",
    "from abc import ABC, abstractmethod\n",
    "class Department(ABC):\n",
    "    salary = 1000\n",
    "    \n",
    "    @abstractmethod\n",
    "    def departmentInfo(self):\n",
    "        pass\n",
    "    @abstractmethod\n",
    "    def test(self):\n",
    "        print(\"tested\")\n",
    "    \n",
    "class DataEngineering(Department):\n",
    "    salary = 1500\n",
    "    \n",
    "    def departmentInfo(self):\n",
    "        print(\"hi user\")\n",
    "        \n",
    "    def test(self):\n",
    "        print(\"hi DE user\")\n",
    "        \n",
    "class hr(DataEngineering):\n",
    "    def departmentInfo(self):\n",
    "        print(\"hr deptinfo\")\n",
    "    \n",
    "    def testHr(self):\n",
    "        print(\"testHr\")\n",
    "        \n",
    "    def test(self):\n",
    "        print(\"hi hr user\")\n",
    "        \n",
    "        \n",
    "# d = Department()\n",
    "md1 = DataEngineering()\n",
    "\n",
    "h1 = hr()\n",
    "\n",
    "h1.testHr()\n",
    "h1.test()\n",
    "\n",
    "\n",
    "\n",
    "\n"
   ]
  },
  {
   "cell_type": "code",
   "execution_count": 96,
   "id": "b486b094",
   "metadata": {},
   "outputs": [],
   "source": [
    "# class method decorators and static method decorators"
   ]
  },
  {
   "cell_type": "code",
   "execution_count": 98,
   "id": "bd16e5c1",
   "metadata": {},
   "outputs": [],
   "source": [
    "import numpy as np\n",
    "\n",
    "arr_3d = np.array([[[1,2],[3,4]],[[4,5],[6,7]]\n",
    "    \n",
    "])"
   ]
  },
  {
   "cell_type": "code",
   "execution_count": 99,
   "id": "3f8bd277",
   "metadata": {},
   "outputs": [
    {
     "data": {
      "text/plain": [
       "array([[[1, 2],\n",
       "        [3, 4]],\n",
       "\n",
       "       [[4, 5],\n",
       "        [6, 7]]])"
      ]
     },
     "execution_count": 99,
     "metadata": {},
     "output_type": "execute_result"
    }
   ],
   "source": [
    "arr_3d"
   ]
  },
  {
   "cell_type": "code",
   "execution_count": 102,
   "id": "d1c94c37",
   "metadata": {},
   "outputs": [
    {
     "data": {
      "text/plain": [
       "array([[1, 1, 1, 1],\n",
       "       [1, 1, 1, 1]])"
      ]
     },
     "execution_count": 102,
     "metadata": {},
     "output_type": "execute_result"
    }
   ],
   "source": [
    "np.ones((2,4),dtype=int)"
   ]
  },
  {
   "cell_type": "code",
   "execution_count": 107,
   "id": "d563ab18",
   "metadata": {},
   "outputs": [
    {
     "data": {
      "text/plain": [
       "array([[2, 2],\n",
       "       [2, 2]])"
      ]
     },
     "execution_count": 107,
     "metadata": {},
     "output_type": "execute_result"
    }
   ],
   "source": [
    "np.full((2,2),2)"
   ]
  },
  {
   "cell_type": "code",
   "execution_count": 108,
   "id": "016c2aa2",
   "metadata": {},
   "outputs": [
    {
     "data": {
      "text/plain": [
       "array([[1, 2, 3],\n",
       "       [3, 4, 5]])"
      ]
     },
     "execution_count": 108,
     "metadata": {},
     "output_type": "execute_result"
    }
   ],
   "source": [
    "arr1 = np.array([[1,2,3],[3,4,5]])\n",
    "\n",
    "arr1"
   ]
  },
  {
   "cell_type": "code",
   "execution_count": 119,
   "id": "3cc48ab2",
   "metadata": {},
   "outputs": [
    {
     "data": {
      "text/plain": [
       "array([4, 5])"
      ]
     },
     "execution_count": 119,
     "metadata": {},
     "output_type": "execute_result"
    }
   ],
   "source": [
    "arr1.shape = (3,2)\n",
    "arr1.max(axis=0)"
   ]
  },
  {
   "cell_type": "code",
   "execution_count": 52,
   "id": "97cad93c",
   "metadata": {},
   "outputs": [],
   "source": [
    "import pandas as pd\n",
    "\n",
    "names = [1,2,3,4]\n",
    "ids = ['e','r','f','g']"
   ]
  },
  {
   "cell_type": "code",
   "execution_count": 53,
   "id": "1105158f",
   "metadata": {},
   "outputs": [],
   "source": [
    "df = pd.DataFrame({'Pname':names,'Pid':ids}, index = ['A','B','C','D'])"
   ]
  },
  {
   "cell_type": "code",
   "execution_count": 54,
   "id": "9adbbe50",
   "metadata": {},
   "outputs": [
    {
     "data": {
      "text/html": [
       "<div>\n",
       "<style scoped>\n",
       "    .dataframe tbody tr th:only-of-type {\n",
       "        vertical-align: middle;\n",
       "    }\n",
       "\n",
       "    .dataframe tbody tr th {\n",
       "        vertical-align: top;\n",
       "    }\n",
       "\n",
       "    .dataframe thead th {\n",
       "        text-align: right;\n",
       "    }\n",
       "</style>\n",
       "<table border=\"1\" class=\"dataframe\">\n",
       "  <thead>\n",
       "    <tr style=\"text-align: right;\">\n",
       "      <th></th>\n",
       "      <th>Pname</th>\n",
       "      <th>Pid</th>\n",
       "    </tr>\n",
       "  </thead>\n",
       "  <tbody>\n",
       "    <tr>\n",
       "      <th>A</th>\n",
       "      <td>1</td>\n",
       "      <td>e</td>\n",
       "    </tr>\n",
       "    <tr>\n",
       "      <th>B</th>\n",
       "      <td>2</td>\n",
       "      <td>r</td>\n",
       "    </tr>\n",
       "    <tr>\n",
       "      <th>C</th>\n",
       "      <td>3</td>\n",
       "      <td>f</td>\n",
       "    </tr>\n",
       "    <tr>\n",
       "      <th>D</th>\n",
       "      <td>4</td>\n",
       "      <td>g</td>\n",
       "    </tr>\n",
       "  </tbody>\n",
       "</table>\n",
       "</div>"
      ],
      "text/plain": [
       "   Pname Pid\n",
       "A      1   e\n",
       "B      2   r\n",
       "C      3   f\n",
       "D      4   g"
      ]
     },
     "execution_count": 54,
     "metadata": {},
     "output_type": "execute_result"
    }
   ],
   "source": [
    "df"
   ]
  },
  {
   "cell_type": "code",
   "execution_count": 55,
   "id": "658db21c",
   "metadata": {},
   "outputs": [
    {
     "data": {
      "text/html": [
       "<div>\n",
       "<style scoped>\n",
       "    .dataframe tbody tr th:only-of-type {\n",
       "        vertical-align: middle;\n",
       "    }\n",
       "\n",
       "    .dataframe tbody tr th {\n",
       "        vertical-align: top;\n",
       "    }\n",
       "\n",
       "    .dataframe thead th {\n",
       "        text-align: right;\n",
       "    }\n",
       "</style>\n",
       "<table border=\"1\" class=\"dataframe\">\n",
       "  <thead>\n",
       "    <tr style=\"text-align: right;\">\n",
       "      <th></th>\n",
       "      <th>Pname</th>\n",
       "      <th>Pid</th>\n",
       "    </tr>\n",
       "  </thead>\n",
       "  <tbody>\n",
       "    <tr>\n",
       "      <th>A</th>\n",
       "      <td>False</td>\n",
       "      <td>False</td>\n",
       "    </tr>\n",
       "    <tr>\n",
       "      <th>B</th>\n",
       "      <td>False</td>\n",
       "      <td>False</td>\n",
       "    </tr>\n",
       "    <tr>\n",
       "      <th>C</th>\n",
       "      <td>False</td>\n",
       "      <td>False</td>\n",
       "    </tr>\n",
       "    <tr>\n",
       "      <th>D</th>\n",
       "      <td>False</td>\n",
       "      <td>False</td>\n",
       "    </tr>\n",
       "  </tbody>\n",
       "</table>\n",
       "</div>"
      ],
      "text/plain": [
       "   Pname    Pid\n",
       "A  False  False\n",
       "B  False  False\n",
       "C  False  False\n",
       "D  False  False"
      ]
     },
     "execution_count": 55,
     "metadata": {},
     "output_type": "execute_result"
    }
   ],
   "source": [
    "df.isna()\n"
   ]
  },
  {
   "cell_type": "code",
   "execution_count": 56,
   "id": "ebb5f0cb",
   "metadata": {},
   "outputs": [
    {
     "data": {
      "text/html": [
       "<div>\n",
       "<style scoped>\n",
       "    .dataframe tbody tr th:only-of-type {\n",
       "        vertical-align: middle;\n",
       "    }\n",
       "\n",
       "    .dataframe tbody tr th {\n",
       "        vertical-align: top;\n",
       "    }\n",
       "\n",
       "    .dataframe thead th {\n",
       "        text-align: right;\n",
       "    }\n",
       "</style>\n",
       "<table border=\"1\" class=\"dataframe\">\n",
       "  <thead>\n",
       "    <tr style=\"text-align: right;\">\n",
       "      <th></th>\n",
       "      <th>Pname</th>\n",
       "      <th>Pid</th>\n",
       "    </tr>\n",
       "  </thead>\n",
       "  <tbody>\n",
       "    <tr>\n",
       "      <th>A</th>\n",
       "      <td>1</td>\n",
       "      <td>e</td>\n",
       "    </tr>\n",
       "    <tr>\n",
       "      <th>B</th>\n",
       "      <td>2</td>\n",
       "      <td>r</td>\n",
       "    </tr>\n",
       "    <tr>\n",
       "      <th>C</th>\n",
       "      <td>3</td>\n",
       "      <td>f</td>\n",
       "    </tr>\n",
       "    <tr>\n",
       "      <th>D</th>\n",
       "      <td>4</td>\n",
       "      <td>g</td>\n",
       "    </tr>\n",
       "  </tbody>\n",
       "</table>\n",
       "</div>"
      ],
      "text/plain": [
       "   Pname Pid\n",
       "A      1   e\n",
       "B      2   r\n",
       "C      3   f\n",
       "D      4   g"
      ]
     },
     "execution_count": 56,
     "metadata": {},
     "output_type": "execute_result"
    }
   ],
   "source": [
    "df.drop_duplicates()"
   ]
  },
  {
   "cell_type": "code",
   "execution_count": 59,
   "id": "2177b5e5",
   "metadata": {},
   "outputs": [
    {
     "data": {
      "text/html": [
       "<div>\n",
       "<style scoped>\n",
       "    .dataframe tbody tr th:only-of-type {\n",
       "        vertical-align: middle;\n",
       "    }\n",
       "\n",
       "    .dataframe tbody tr th {\n",
       "        vertical-align: top;\n",
       "    }\n",
       "\n",
       "    .dataframe thead th {\n",
       "        text-align: right;\n",
       "    }\n",
       "</style>\n",
       "<table border=\"1\" class=\"dataframe\">\n",
       "  <thead>\n",
       "    <tr style=\"text-align: right;\">\n",
       "      <th></th>\n",
       "      <th>Pname</th>\n",
       "      <th>Pid</th>\n",
       "      <th>age</th>\n",
       "    </tr>\n",
       "  </thead>\n",
       "  <tbody>\n",
       "    <tr>\n",
       "      <th>A</th>\n",
       "      <td>1.0</td>\n",
       "      <td>e</td>\n",
       "      <td>NaN</td>\n",
       "    </tr>\n",
       "    <tr>\n",
       "      <th>B</th>\n",
       "      <td>2.0</td>\n",
       "      <td>r</td>\n",
       "      <td>NaN</td>\n",
       "    </tr>\n",
       "    <tr>\n",
       "      <th>C</th>\n",
       "      <td>3.0</td>\n",
       "      <td>f</td>\n",
       "      <td>NaN</td>\n",
       "    </tr>\n",
       "    <tr>\n",
       "      <th>D</th>\n",
       "      <td>4.0</td>\n",
       "      <td>g</td>\n",
       "      <td>NaN</td>\n",
       "    </tr>\n",
       "    <tr>\n",
       "      <th>0</th>\n",
       "      <td>NaN</td>\n",
       "      <td>NaN</td>\n",
       "      <td>1.0</td>\n",
       "    </tr>\n",
       "    <tr>\n",
       "      <th>1</th>\n",
       "      <td>NaN</td>\n",
       "      <td>NaN</td>\n",
       "      <td>2.0</td>\n",
       "    </tr>\n",
       "    <tr>\n",
       "      <th>2</th>\n",
       "      <td>NaN</td>\n",
       "      <td>NaN</td>\n",
       "      <td>3.0</td>\n",
       "    </tr>\n",
       "    <tr>\n",
       "      <th>3</th>\n",
       "      <td>NaN</td>\n",
       "      <td>NaN</td>\n",
       "      <td>4.0</td>\n",
       "    </tr>\n",
       "  </tbody>\n",
       "</table>\n",
       "</div>"
      ],
      "text/plain": [
       "   Pname  Pid  age\n",
       "A    1.0    e  NaN\n",
       "B    2.0    r  NaN\n",
       "C    3.0    f  NaN\n",
       "D    4.0    g  NaN\n",
       "0    NaN  NaN  1.0\n",
       "1    NaN  NaN  2.0\n",
       "2    NaN  NaN  3.0\n",
       "3    NaN  NaN  4.0"
      ]
     },
     "execution_count": 59,
     "metadata": {},
     "output_type": "execute_result"
    }
   ],
   "source": [
    "#df['age'] = [1,2,3,4]\n",
    "age_df = pd.DataFrame({'age':[1,2,3,4]})\n",
    "pd.concat((df,age_df))"
   ]
  },
  {
   "cell_type": "code",
   "execution_count": 60,
   "id": "c7417f62",
   "metadata": {},
   "outputs": [
    {
     "data": {
      "text/plain": [
       "A    False\n",
       "B    False\n",
       "C    False\n",
       "D    False\n",
       "dtype: bool"
      ]
     },
     "execution_count": 60,
     "metadata": {},
     "output_type": "execute_result"
    }
   ],
   "source": [
    "df.duplicated()"
   ]
  },
  {
   "cell_type": "code",
   "execution_count": 82,
   "id": "f989fbd8",
   "metadata": {},
   "outputs": [
    {
     "data": {
      "text/plain": [
       "'Zyx'"
      ]
     },
     "execution_count": 82,
     "metadata": {},
     "output_type": "execute_result"
    }
   ],
   "source": [
    "string = 'Abc'\n",
    "new_string = \"\"\n",
    "for char in string:\n",
    "    ascii_code = 122 - abs(65 - ord(char))\n",
    "    if char.isupper():\n",
    "        new_string +=chr(ascii_code).upper()\n",
    "    else:\n",
    "        new_string+= chr(ascii_code).lower()\n",
    "        \n",
    "    \n",
    "\n",
    "new_string"
   ]
  },
  {
   "cell_type": "code",
   "execution_count": 63,
   "id": "57402b93",
   "metadata": {},
   "outputs": [
    {
     "data": {
      "text/plain": [
       "97"
      ]
     },
     "execution_count": 63,
     "metadata": {},
     "output_type": "execute_result"
    }
   ],
   "source": [
    "ord('a')"
   ]
  },
  {
   "cell_type": "code",
   "execution_count": 4,
   "id": "d93ba125",
   "metadata": {},
   "outputs": [
    {
     "data": {
      "text/plain": [
       "[65,\n",
       " 66,\n",
       " 67,\n",
       " 68,\n",
       " 69,\n",
       " 70,\n",
       " 71,\n",
       " 72,\n",
       " 73,\n",
       " 74,\n",
       " 75,\n",
       " 76,\n",
       " 77,\n",
       " 78,\n",
       " 79,\n",
       " 80,\n",
       " 81,\n",
       " 82,\n",
       " 83,\n",
       " 84,\n",
       " 85,\n",
       " 86,\n",
       " 87,\n",
       " 88,\n",
       " 89,\n",
       " 90]"
      ]
     },
     "execution_count": 4,
     "metadata": {},
     "output_type": "execute_result"
    }
   ],
   "source": []
  },
  {
   "cell_type": "code",
   "execution_count": 67,
   "id": "ab11376a",
   "metadata": {},
   "outputs": [
    {
     "data": {
      "text/plain": [
       "120"
      ]
     },
     "execution_count": 67,
     "metadata": {},
     "output_type": "execute_result"
    }
   ],
   "source": [
    "122- abs(65 - ord('C'))"
   ]
  },
  {
   "cell_type": "code",
   "execution_count": 6,
   "id": "8d971c08",
   "metadata": {},
   "outputs": [
    {
     "data": {
      "text/plain": [
       "3"
      ]
     },
     "execution_count": 6,
     "metadata": {},
     "output_type": "execute_result"
    }
   ],
   "source": [
    "li = [1,2,3,0,1,2,3]\n",
    "\n",
    "def findEquilibrium(li):\n",
    "    for i in range(len(li)):\n",
    "        left_sum = sum(li[:i])\n",
    "        right_sum = sum(li[i+1:])\n",
    "        if left_sum == right_sum:\n",
    "            return i\n",
    "    return -1\n",
    "\n",
    "\n",
    "findEquilibrium(li)\n",
    "    "
   ]
  },
  {
   "cell_type": "code",
   "execution_count": 8,
   "id": "6c972d6a",
   "metadata": {},
   "outputs": [
    {
     "data": {
      "text/plain": [
       "set"
      ]
     },
     "execution_count": 8,
     "metadata": {},
     "output_type": "execute_result"
    }
   ],
   "source": [
    "s = {1,}\n",
    "type(s)"
   ]
  },
  {
   "cell_type": "code",
   "execution_count": 16,
   "id": "d516521e",
   "metadata": {},
   "outputs": [
    {
     "data": {
      "text/plain": [
       "24"
      ]
     },
     "execution_count": 16,
     "metadata": {},
     "output_type": "execute_result"
    }
   ],
   "source": [
    "10*2+6-2%3**2"
   ]
  },
  {
   "cell_type": "code",
   "execution_count": 20,
   "id": "bcfd2ff9",
   "metadata": {},
   "outputs": [
    {
     "data": {
      "text/plain": [
       "3"
      ]
     },
     "execution_count": 20,
     "metadata": {},
     "output_type": "execute_result"
    }
   ],
   "source": [
    "-6 %9"
   ]
  },
  {
   "cell_type": "code",
   "execution_count": 26,
   "id": "3c383aa0",
   "metadata": {},
   "outputs": [],
   "source": [
    "li = iter([1,2,3])"
   ]
  },
  {
   "cell_type": "code",
   "execution_count": 29,
   "id": "37552db9",
   "metadata": {},
   "outputs": [
    {
     "name": "stdout",
     "output_type": "stream",
     "text": [
      "3\n"
     ]
    }
   ],
   "source": [
    "print(next(li))"
   ]
  },
  {
   "cell_type": "code",
   "execution_count": null,
   "id": "39c4eeae",
   "metadata": {},
   "outputs": [],
   "source": []
  }
 ],
 "metadata": {
  "kernelspec": {
   "display_name": "Python 3 (ipykernel)",
   "language": "python",
   "name": "python3"
  },
  "language_info": {
   "codemirror_mode": {
    "name": "ipython",
    "version": 3
   },
   "file_extension": ".py",
   "mimetype": "text/x-python",
   "name": "python",
   "nbconvert_exporter": "python",
   "pygments_lexer": "ipython3",
   "version": "3.9.12"
  }
 },
 "nbformat": 4,
 "nbformat_minor": 5
}
